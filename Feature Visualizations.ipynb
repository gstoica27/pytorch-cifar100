{
 "cells": [
  {
   "cell_type": "code",
   "execution_count": 1,
   "id": "50e1d1f0",
   "metadata": {},
   "outputs": [],
   "source": [
    "from matplotlib import pyplot as plt\n",
    "import os\n",
    "import torch\n",
    "import torchvision.transforms as transforms\n",
    "from torch.utils.data import DataLoader\n",
    "from tqdm import tqdm\n",
    "from conf import settings\n",
    "from utils import get_network, get_test_dataloader\n",
    "from models.resnet import resnet18"
   ]
  },
  {
   "cell_type": "code",
   "execution_count": 2,
   "id": "e0b1ea97",
   "metadata": {},
   "outputs": [],
   "source": [
    "import torch.nn.functional as F\n",
    "import matplotlib.pyplot as plt\n",
    "import seaborn as sns"
   ]
  },
  {
   "cell_type": "code",
   "execution_count": 3,
   "id": "8223c76c",
   "metadata": {},
   "outputs": [],
   "source": [
    "from sklearn.decomposition import PCA\n",
    "import numpy as np"
   ]
  },
  {
   "cell_type": "code",
   "execution_count": 4,
   "id": "c6361792",
   "metadata": {},
   "outputs": [
    {
     "name": "stdout",
     "output_type": "stream",
     "text": [
      "baseline missed: 2396 | approach 3 missed: 2305\n"
     ]
    }
   ],
   "source": [
    "baseline_missed = set(np.loadtxt('baseline_wrong.txt'))\n",
    "approach3_missed = set(np.loadtxt('approach3_wrong.txt'))\n",
    "print('baseline missed: {} | approach 3 missed: {}'.format(len(baseline_missed), len(approach3_missed)))"
   ]
  },
  {
   "cell_type": "code",
   "execution_count": 5,
   "id": "db023087",
   "metadata": {},
   "outputs": [
    {
     "data": {
      "text/plain": [
       "685"
      ]
     },
     "execution_count": 5,
     "metadata": {},
     "output_type": "execute_result"
    }
   ],
   "source": [
    "len(baseline_missed - approach3_missed)"
   ]
  },
  {
   "cell_type": "code",
   "execution_count": 6,
   "id": "35ce6d43",
   "metadata": {},
   "outputs": [
    {
     "data": {
      "text/plain": [
       "594"
      ]
     },
     "execution_count": 6,
     "metadata": {},
     "output_type": "execute_result"
    }
   ],
   "source": [
    "len(approach3_missed - baseline_missed)"
   ]
  },
  {
   "cell_type": "code",
   "execution_count": 7,
   "id": "5a50b4a4",
   "metadata": {},
   "outputs": [
    {
     "data": {
      "text/plain": [
       "1711"
      ]
     },
     "execution_count": 7,
     "metadata": {},
     "output_type": "execute_result"
    }
   ],
   "source": [
    "len(approach3_missed.intersection(baseline_missed))"
   ]
  },
  {
   "cell_type": "code",
   "execution_count": 8,
   "id": "85d662c2",
   "metadata": {},
   "outputs": [],
   "source": [
    "approach3_desired = baseline_missed - approach3_missed"
   ]
  },
  {
   "cell_type": "code",
   "execution_count": 71,
   "id": "8430b348",
   "metadata": {},
   "outputs": [],
   "source": [
    "id2label = {}\n",
    "with open('/nethome/gstoica3/research/pytorch-cifar100/data/cifar-100-python/id2label.txt', 'r') as handle:\n",
    "    for idx, line in enumerate(handle):\n",
    "        if idx % 2 == 0:\n",
    "            element, label = line.strip().split(': ')\n",
    "            id2label[int(element)] = label"
   ]
  },
  {
   "cell_type": "code",
   "execution_count": 72,
   "id": "55061b8b",
   "metadata": {},
   "outputs": [
    {
     "data": {
      "text/plain": [
       "100"
      ]
     },
     "execution_count": 72,
     "metadata": {},
     "output_type": "execute_result"
    }
   ],
   "source": [
    "len(id2label)"
   ]
  },
  {
   "cell_type": "code",
   "execution_count": null,
   "id": "1ef2549a",
   "metadata": {},
   "outputs": [],
   "source": []
  },
  {
   "cell_type": "code",
   "execution_count": 11,
   "id": "093c40eb",
   "metadata": {},
   "outputs": [],
   "source": [
    "net = resnet18(\n",
    "            variant_name='3', pos_emb_dim=10,\n",
    "            softmax_temp=1, variant_loc=3,\n",
    "            stochastic_stride=False, stride=1\n",
    "        )"
   ]
  },
  {
   "cell_type": "code",
   "execution_count": 12,
   "id": "52a1d8f2",
   "metadata": {},
   "outputs": [
    {
     "name": "stdout",
     "output_type": "stream",
     "text": [
      "Files already downloaded and verified\n"
     ]
    }
   ],
   "source": [
    "cifar100_test_loader = get_test_dataloader(\n",
    "    settings.CIFAR100_TRAIN_MEAN,\n",
    "    settings.CIFAR100_TRAIN_STD,\n",
    "    #settings.CIFAR100_PATH,\n",
    "    num_workers=6,\n",
    "    batch_size=1,\n",
    "    shuffle=False\n",
    "    )"
   ]
  },
  {
   "cell_type": "code",
   "execution_count": 13,
   "id": "96fd08a4",
   "metadata": {},
   "outputs": [],
   "source": [
    "path = '/coc/pskynet4/gstoica3/checkpoints/resnet18/CSAM_Approach3_BN_PosEmb10_AfterConv3_Temp1/Tuesday_01_February_2022_13h_50m_55s/resnet18-181-best.pth'\n",
    "weights = torch.load(path)\n",
    "net_params = {i[0]:i[1] for i in net.named_parameters()}"
   ]
  },
  {
   "cell_type": "code",
   "execution_count": 14,
   "id": "21baa9cf",
   "metadata": {},
   "outputs": [
    {
     "data": {
      "text/plain": [
       "<All keys matched successfully>"
      ]
     },
     "execution_count": 14,
     "metadata": {},
     "output_type": "execute_result"
    }
   ],
   "source": [
    "net.load_state_dict(weights)"
   ]
  },
  {
   "cell_type": "code",
   "execution_count": 15,
   "id": "e99faef0",
   "metadata": {},
   "outputs": [
    {
     "data": {
      "text/plain": [
       "ResNet(\n",
       "  (conv1): Sequential(\n",
       "    (0): Conv2d(3, 64, kernel_size=(3, 3), stride=(1, 1), padding=(1, 1), bias=False)\n",
       "    (1): BatchNorm2d(64, eps=1e-05, momentum=0.1, affine=True, track_running_stats=True)\n",
       "    (2): ReLU(inplace=True)\n",
       "  )\n",
       "  (conv2_x): Sequential(\n",
       "    (0): BasicBlock(\n",
       "      (residual_function): Sequential(\n",
       "        (0): Conv2d(64, 64, kernel_size=(3, 3), stride=(1, 1), padding=(1, 1), bias=False)\n",
       "        (1): BatchNorm2d(64, eps=1e-05, momentum=0.1, affine=True, track_running_stats=True)\n",
       "        (2): ReLU(inplace=True)\n",
       "        (3): Conv2d(64, 64, kernel_size=(3, 3), stride=(1, 1), padding=(1, 1), bias=False)\n",
       "        (4): BatchNorm2d(64, eps=1e-05, momentum=0.1, affine=True, track_running_stats=True)\n",
       "      )\n",
       "      (shortcut): Sequential()\n",
       "    )\n",
       "    (1): BasicBlock(\n",
       "      (residual_function): Sequential(\n",
       "        (0): Conv2d(64, 64, kernel_size=(3, 3), stride=(1, 1), padding=(1, 1), bias=False)\n",
       "        (1): BatchNorm2d(64, eps=1e-05, momentum=0.1, affine=True, track_running_stats=True)\n",
       "        (2): ReLU(inplace=True)\n",
       "        (3): Conv2d(64, 64, kernel_size=(3, 3), stride=(1, 1), padding=(1, 1), bias=False)\n",
       "        (4): BatchNorm2d(64, eps=1e-05, momentum=0.1, affine=True, track_running_stats=True)\n",
       "      )\n",
       "      (shortcut): Sequential()\n",
       "    )\n",
       "  )\n",
       "  (conv3_x): Sequential(\n",
       "    (0): BasicBlock(\n",
       "      (residual_function): Sequential(\n",
       "        (0): Conv2d(64, 128, kernel_size=(3, 3), stride=(2, 2), padding=(1, 1), bias=False)\n",
       "        (1): BatchNorm2d(128, eps=1e-05, momentum=0.1, affine=True, track_running_stats=True)\n",
       "        (2): ReLU(inplace=True)\n",
       "        (3): Conv2d(128, 128, kernel_size=(3, 3), stride=(1, 1), padding=(1, 1), bias=False)\n",
       "        (4): BatchNorm2d(128, eps=1e-05, momentum=0.1, affine=True, track_running_stats=True)\n",
       "      )\n",
       "      (shortcut): Sequential(\n",
       "        (0): Conv2d(64, 128, kernel_size=(1, 1), stride=(2, 2), bias=False)\n",
       "        (1): BatchNorm2d(128, eps=1e-05, momentum=0.1, affine=True, track_running_stats=True)\n",
       "      )\n",
       "    )\n",
       "    (1): BasicBlock(\n",
       "      (residual_function): Sequential(\n",
       "        (0): Conv2d(128, 128, kernel_size=(3, 3), stride=(1, 1), padding=(1, 1), bias=False)\n",
       "        (1): BatchNorm2d(128, eps=1e-05, momentum=0.1, affine=True, track_running_stats=True)\n",
       "        (2): ReLU(inplace=True)\n",
       "        (3): Conv2d(128, 128, kernel_size=(3, 3), stride=(1, 1), padding=(1, 1), bias=False)\n",
       "        (4): BatchNorm2d(128, eps=1e-05, momentum=0.1, affine=True, track_running_stats=True)\n",
       "      )\n",
       "      (shortcut): Sequential()\n",
       "    )\n",
       "  )\n",
       "  (conv4_x): Sequential(\n",
       "    (0): BasicBlock(\n",
       "      (residual_function): Sequential(\n",
       "        (0): Conv2d(128, 256, kernel_size=(3, 3), stride=(2, 2), padding=(1, 1), bias=False)\n",
       "        (1): BatchNorm2d(256, eps=1e-05, momentum=0.1, affine=True, track_running_stats=True)\n",
       "        (2): ReLU(inplace=True)\n",
       "        (3): Conv2d(256, 256, kernel_size=(3, 3), stride=(1, 1), padding=(1, 1), bias=False)\n",
       "        (4): BatchNorm2d(256, eps=1e-05, momentum=0.1, affine=True, track_running_stats=True)\n",
       "      )\n",
       "      (shortcut): Sequential(\n",
       "        (0): Conv2d(128, 256, kernel_size=(1, 1), stride=(2, 2), bias=False)\n",
       "        (1): BatchNorm2d(256, eps=1e-05, momentum=0.1, affine=True, track_running_stats=True)\n",
       "      )\n",
       "    )\n",
       "    (1): BasicBlock(\n",
       "      (residual_function): Sequential(\n",
       "        (0): Conv2d(256, 256, kernel_size=(3, 3), stride=(1, 1), padding=(1, 1), bias=False)\n",
       "        (1): BatchNorm2d(256, eps=1e-05, momentum=0.1, affine=True, track_running_stats=True)\n",
       "        (2): ReLU(inplace=True)\n",
       "        (3): Conv2d(256, 256, kernel_size=(3, 3), stride=(1, 1), padding=(1, 1), bias=False)\n",
       "        (4): BatchNorm2d(256, eps=1e-05, momentum=0.1, affine=True, track_running_stats=True)\n",
       "      )\n",
       "      (shortcut): Sequential()\n",
       "    )\n",
       "  )\n",
       "  (conv5_x): Sequential(\n",
       "    (0): BasicBlock(\n",
       "      (residual_function): Sequential(\n",
       "        (0): Conv2d(256, 512, kernel_size=(3, 3), stride=(2, 2), padding=(1, 1), bias=False)\n",
       "        (1): BatchNorm2d(512, eps=1e-05, momentum=0.1, affine=True, track_running_stats=True)\n",
       "        (2): ReLU(inplace=True)\n",
       "        (3): Conv2d(512, 512, kernel_size=(3, 3), stride=(1, 1), padding=(1, 1), bias=False)\n",
       "        (4): BatchNorm2d(512, eps=1e-05, momentum=0.1, affine=True, track_running_stats=True)\n",
       "      )\n",
       "      (shortcut): Sequential(\n",
       "        (0): Conv2d(256, 512, kernel_size=(1, 1), stride=(2, 2), bias=False)\n",
       "        (1): BatchNorm2d(512, eps=1e-05, momentum=0.1, affine=True, track_running_stats=True)\n",
       "      )\n",
       "    )\n",
       "    (1): BasicBlock(\n",
       "      (residual_function): Sequential(\n",
       "        (0): Conv2d(512, 512, kernel_size=(3, 3), stride=(1, 1), padding=(1, 1), bias=False)\n",
       "        (1): BatchNorm2d(512, eps=1e-05, momentum=0.1, affine=True, track_running_stats=True)\n",
       "        (2): ReLU(inplace=True)\n",
       "        (3): Conv2d(512, 512, kernel_size=(3, 3), stride=(1, 1), padding=(1, 1), bias=False)\n",
       "        (4): BatchNorm2d(512, eps=1e-05, momentum=0.1, affine=True, track_running_stats=True)\n",
       "      )\n",
       "      (shortcut): Sequential()\n",
       "    )\n",
       "  )\n",
       "  (avg_pool): AdaptiveAvgPool2d(output_size=(1, 1))\n",
       "  (fc): Linear(in_features=512, out_features=100, bias=True)\n",
       "  (csam): ConvolutionalSelfAttention(\n",
       "    (input_padder): ConstantPad2d(padding=(0, 0, 0, 0), value=0.0)\n",
       "    (positional_encodings): PositionalEncoding2D()\n",
       "    (global_transform): Linear(in_features=138, out_features=128, bias=True)\n",
       "  )\n",
       "  (csam_bn): BatchNorm2d(128, eps=1e-05, momentum=0.1, affine=True, track_running_stats=True)\n",
       ")"
      ]
     },
     "execution_count": 15,
     "metadata": {},
     "output_type": "execute_result"
    }
   ],
   "source": [
    "net.eval()"
   ]
  },
  {
   "cell_type": "code",
   "execution_count": 16,
   "id": "23d7ac19",
   "metadata": {},
   "outputs": [],
   "source": [
    "net = net.cuda()"
   ]
  },
  {
   "cell_type": "code",
   "execution_count": 17,
   "id": "5fa23b34",
   "metadata": {},
   "outputs": [
    {
     "name": "stderr",
     "output_type": "stream",
     "text": [
      "985it [00:00, 1392.75it/s]\n"
     ]
    }
   ],
   "source": [
    "desired_images = []\n",
    "desired_labels = []\n",
    "wrong_images = []\n",
    "wrong_labels = []\n",
    "desired_flag = False\n",
    "wrong_flag = False\n",
    "desired_data = 64\n",
    "for n_iter, (image, label) in tqdm(enumerate(cifar100_test_loader)):\n",
    "    image = image.cuda()\n",
    "    if n_iter in approach3_desired and not desired_flag:\n",
    "        desired_images.append(image)\n",
    "        desired_labels.append(label)\n",
    "    if n_iter in approach3_missed and not wrong_flag:\n",
    "        wrong_images.append(image)\n",
    "        wrong_labels.append(label)\n",
    "    if len(desired_images) >= desired_data:\n",
    "        desired_flag = True\n",
    "    if len(wrong_images) >= desired_data:\n",
    "        wrong_flag = True\n",
    "    if desired_flag and wrong_flag: break"
   ]
  },
  {
   "cell_type": "code",
   "execution_count": 18,
   "id": "53af712b",
   "metadata": {},
   "outputs": [],
   "source": [
    "desired_images = torch.cat(desired_images)\n",
    "desired_labels = torch.cat(desired_labels)\n",
    "wrong_images = torch.cat(wrong_images)\n",
    "wrong_labels = torch.cat(wrong_labels)"
   ]
  },
  {
   "cell_type": "code",
   "execution_count": null,
   "id": "8c132ae7",
   "metadata": {},
   "outputs": [],
   "source": []
  },
  {
   "cell_type": "code",
   "execution_count": 19,
   "id": "cd219ffe",
   "metadata": {},
   "outputs": [],
   "source": [
    "predictions = net(wrong_images)"
   ]
  },
  {
   "cell_type": "code",
   "execution_count": 20,
   "id": "bdd035bc",
   "metadata": {},
   "outputs": [],
   "source": [
    "predictions = predictions.argmax(-1).detach().cpu().numpy()"
   ]
  },
  {
   "cell_type": "code",
   "execution_count": 21,
   "id": "41c146cc",
   "metadata": {},
   "outputs": [
    {
     "name": "stderr",
     "output_type": "stream",
     "text": [
      "100%|█████████████████████████████████████████████████████████████████████████████████████████████████████████████████████████████████████████████████████████████████████████████████████████████████████████████████████████████████████████████████████████████████████████████████| 3/3 [00:00<00:00, 1677.05it/s]\n"
     ]
    }
   ],
   "source": [
    "output = wrong_images\n",
    "for layer in tqdm(net.network_layers[:net.variant_loc]):\n",
    "    output = layer(output)"
   ]
  },
  {
   "cell_type": "code",
   "execution_count": null,
   "id": "9f98d12b",
   "metadata": {},
   "outputs": [],
   "source": []
  },
  {
   "cell_type": "code",
   "execution_count": 22,
   "id": "08d01bec",
   "metadata": {},
   "outputs": [
    {
     "data": {
      "text/plain": [
       "torch.Size([64, 128, 16, 16])"
      ]
     },
     "execution_count": 22,
     "metadata": {},
     "output_type": "execute_result"
    }
   ],
   "source": [
    "output.shape"
   ]
  },
  {
   "cell_type": "code",
   "execution_count": 23,
   "id": "c363fbae",
   "metadata": {},
   "outputs": [],
   "source": [
    "csam = net.network_layers[net.variant_loc]\n",
    "batch = csam.input_padder(output)                                        # Pad batch for resolution reduction/preservation\n",
    "batch = batch.permute(0, 2, 3, 1)\n",
    "batch_pos = csam.maybe_add_positional_encodings(batch)\n",
    "X_l, X_g = csam.split_input(batch_pos)\n",
    "\n",
    "X_g_vectors = csam.global_transform(X_g)                                # [F,B,HW-K^2,C]\n",
    "\n",
    "raw_compatibilities = csam.cosine_similarity(\n",
    "X_g, X_l                                                                # [F,B,HW-K^2,C], [F,B,K^2,C]\n",
    ")                                                                       # [F,B,HW-K^2,K^2]\n",
    "compatabilities = F.softmax(csam.appraoch_args['softmax_temp'] * raw_compatibilities, dim=2)\n",
    "\n",
    "W_g = torch.einsum('FBGE,FBGL->FBLE', X_g_vectors, compatabilities)     # [F,B,K^2,C]\n",
    "X_l = X_l[:, :, :, :csam.spatial_C]                                     # [F,B,K^2,E] -> [F,B,K^2,C]\n",
    "forget_gate = torch.sigmoid(torch.sum(W_g * X_l, dim=-1)).unsqueeze(-1) # [F,B,K^2,1]\n",
    "\n",
    "convolved_X = (forget_gate * X_l).sum(dim=2).permute(1,0,2)             # [F,B,K^2,1] x [F,B,K^2,C] -> [F,B,K^2,C] -> [F,B,C] -> [B,F,C]\n",
    "convolved_X = convolved_X.reshape(\n",
    "-1, csam.convs_height, csam.convs_width, csam.spatial_C\n",
    ")                                                                       # [B,F,C] -> [B,F_H,F_W,C]"
   ]
  },
  {
   "cell_type": "code",
   "execution_count": 24,
   "id": "1f0fb1ed",
   "metadata": {},
   "outputs": [],
   "source": [
    "forget_gate = forget_gate.reshape(196, 64, 9).permute(1, 0, 2)"
   ]
  },
  {
   "cell_type": "code",
   "execution_count": 25,
   "id": "8794b95b",
   "metadata": {},
   "outputs": [
    {
     "data": {
      "text/plain": [
       "torch.Size([64, 196, 9])"
      ]
     },
     "execution_count": 25,
     "metadata": {},
     "output_type": "execute_result"
    }
   ],
   "source": [
    "forget_gate.shape"
   ]
  },
  {
   "cell_type": "code",
   "execution_count": 26,
   "id": "f2223243",
   "metadata": {},
   "outputs": [],
   "source": [
    "forget_gate_np = forget_gate.detach().cpu().numpy()"
   ]
  },
  {
   "cell_type": "code",
   "execution_count": 27,
   "id": "03484e13",
   "metadata": {},
   "outputs": [],
   "source": [
    "forget_cos = csam.cosine_similarity(forget_gate.unsqueeze(0), forget_gate.unsqueeze(0)).squeeze(0)"
   ]
  },
  {
   "cell_type": "code",
   "execution_count": null,
   "id": "beedc98e",
   "metadata": {},
   "outputs": [],
   "source": []
  },
  {
   "cell_type": "markdown",
   "id": "c453de42",
   "metadata": {},
   "source": [
    "# Visualization Script"
   ]
  },
  {
   "cell_type": "code",
   "execution_count": 80,
   "id": "3fa682de",
   "metadata": {
    "scrolled": true
   },
   "outputs": [],
   "source": [
    "idx = 63"
   ]
  },
  {
   "cell_type": "code",
   "execution_count": 81,
   "id": "585bd0f9",
   "metadata": {},
   "outputs": [
    {
     "name": "stdout",
     "output_type": "stream",
     "text": [
      "Batch Explained Variance: [0.2742081  0.07194357 0.05695605]\n",
      "Filter Explained Variance: [0.51360106 0.15026243 0.12329441]\n",
      "CSAM Explained Variance: [0.27315578 0.11444124 0.09463593]\n"
     ]
    }
   ],
   "source": [
    "batch_pca = PCA(n_components=3)\n",
    "csam_pca = PCA(n_components=3)\n",
    "filter_pca = PCA(n_components=3)\n",
    "batch_pca.fit(batch[idx].reshape(-1, 128).detach().cpu().numpy())\n",
    "csam_pca.fit(convolved_X[idx].reshape(-1, 128).detach().cpu().numpy())\n",
    "filter_pca.fit(forget_gate_np[idx])\n",
    "print('Batch Explained Variance: {}'.format(batch_pca.explained_variance_ratio_))\n",
    "print('Filter Explained Variance: {}'.format(filter_pca.explained_variance_ratio_))\n",
    "print('CSAM Explained Variance: {}'.format(csam_pca.explained_variance_ratio_))"
   ]
  },
  {
   "cell_type": "code",
   "execution_count": 82,
   "id": "0001bd66",
   "metadata": {},
   "outputs": [
    {
     "name": "stdout",
     "output_type": "stream",
     "text": [
      "Explained Variance\t Explained Variance\t Explained Variance\n",
      "0.27420809864997864\t 0.5136010646820068\t 0.2731557786464691\n",
      "0.07194357365369797\t 0.15026243031024933\t 0.11444123834371567\n",
      "0.05695604905486107\t 0.1232944056391716\t 0.09463593363761902\n"
     ]
    }
   ],
   "source": [
    "print('Explained Variance\\t Explained Variance\\t Explained Variance')\n",
    "for var1, var2, var3 in zip(\n",
    "    batch_pca.explained_variance_ratio_,\n",
    "    filter_pca.explained_variance_ratio_,\n",
    "    csam_pca.explained_variance_ratio_\n",
    "):\n",
    "    print('{}\\t {}\\t {}'.format(var1, var2, var3))\n",
    "# print('Explained Variance')\n",
    "# for var in filter_pca.explained_variance_ratio_:\n",
    "#     print(var)\n",
    "# print('Explained Variance')\n",
    "# for var in csam_pca.explained_variance_ratio_:\n",
    "#     print(var)\n"
   ]
  },
  {
   "cell_type": "code",
   "execution_count": 83,
   "id": "e84840ea",
   "metadata": {},
   "outputs": [],
   "source": [
    "batch_reduced = batch_pca.transform(batch[idx].reshape(-1, 128).detach().cpu().numpy()).reshape(16, 16, 3)\n",
    "csam_reduced = csam_pca.transform(convolved_X[idx].reshape(-1, 128).detach().cpu().numpy()).reshape(14, 14, 3)\n",
    "forget_reduced = filter_pca.transform(forget_gate_np[idx]).reshape(14, 14, 3)"
   ]
  },
  {
   "cell_type": "markdown",
   "id": "e561a259",
   "metadata": {},
   "source": [
    "# Image"
   ]
  },
  {
   "cell_type": "code",
   "execution_count": null,
   "id": "53afde01",
   "metadata": {},
   "outputs": [],
   "source": []
  },
  {
   "cell_type": "code",
   "execution_count": 84,
   "id": "23fed50b",
   "metadata": {},
   "outputs": [
    {
     "name": "stderr",
     "output_type": "stream",
     "text": [
      "Clipping input data to the valid range for imshow with RGB data ([0..1] for floats or [0..255] for integers).\n"
     ]
    },
    {
     "name": "stdout",
     "output_type": "stream",
     "text": [
      "lion\n",
      "bear\n"
     ]
    },
    {
     "data": {
      "text/plain": [
       "<matplotlib.image.AxesImage at 0x7ff34ba66d10>"
      ]
     },
     "execution_count": 84,
     "metadata": {},
     "output_type": "execute_result"
    },
    {
     "data": {
      "image/png": "[encoded data removed]",
      "text/plain": [
       "<Figure size 432x288 with 1 Axes>"
      ]
     },
     "metadata": {
      "needs_background": "light"
     },
     "output_type": "display_data"
    }
   ],
   "source": [
    "print(id2label[wrong_labels[idx].numpy().tolist()])\n",
    "print(id2label[predictions[idx]])\n",
    "image = wrong_images[idx].permute(1, 2, 0).detach().cpu().numpy()\n",
    "plt.imshow(image)"
   ]
  },
  {
   "cell_type": "markdown",
   "id": "bd6d32df",
   "metadata": {},
   "source": [
    "# Visualization of CSAM Input from Vision Backbone"
   ]
  },
  {
   "cell_type": "code",
   "execution_count": 85,
   "id": "b851d540",
   "metadata": {
    "scrolled": true
   },
   "outputs": [
    {
     "data": {
      "text/plain": [
       "<matplotlib.image.AxesImage at 0x7ff224c68110>"
      ]
     },
     "execution_count": 85,
     "metadata": {},
     "output_type": "execute_result"
    },
    {
     "data": {
      "image/png": "[encoded data removed]",
      "text/plain": [
       "<Figure size 432x288 with 1 Axes>"
      ]
     },
     "metadata": {
      "needs_background": "light"
     },
     "output_type": "display_data"
    }
   ],
   "source": [
    "batch_norm = (batch_reduced - np.min(batch_reduced)) / (np.max(batch_reduced) - np.min(batch_reduced))\n",
    "plt.imshow(batch_norm) "
   ]
  },
  {
   "cell_type": "markdown",
   "id": "95b3808a",
   "metadata": {},
   "source": [
    "# Visualization of Generated CSAM Filter"
   ]
  },
  {
   "cell_type": "code",
   "execution_count": 86,
   "id": "2c0dfb7e",
   "metadata": {},
   "outputs": [
    {
     "data": {
      "text/plain": [
       "<matplotlib.image.AxesImage at 0x7ff224da2e10>"
      ]
     },
     "execution_count": 86,
     "metadata": {},
     "output_type": "execute_result"
    },
    {
     "data": {
      "image/png": "[encoded data removed]",
      "text/plain": [
       "<Figure size 432x288 with 1 Axes>"
      ]
     },
     "metadata": {
      "needs_background": "light"
     },
     "output_type": "display_data"
    }
   ],
   "source": [
    "forget_norm = (forget_reduced - np.min(forget_reduced)) / (np.max(forget_reduced) - np.min(forget_reduced))\n",
    "plt.imshow(forget_norm)"
   ]
  },
  {
   "cell_type": "markdown",
   "id": "319f7d46",
   "metadata": {},
   "source": [
    "# Visualization of CSAM Output"
   ]
  },
  {
   "cell_type": "code",
   "execution_count": 87,
   "id": "00a883b9",
   "metadata": {},
   "outputs": [
    {
     "data": {
      "text/plain": [
       "<matplotlib.image.AxesImage at 0x7ff34bb52550>"
      ]
     },
     "execution_count": 87,
     "metadata": {},
     "output_type": "execute_result"
    },
    {
     "data": {
      "image/png": "[encoded data removed]",
      "text/plain": [
       "<Figure size 432x288 with 1 Axes>"
      ]
     },
     "metadata": {
      "needs_background": "light"
     },
     "output_type": "display_data"
    }
   ],
   "source": [
    "csam_norm = (csam_reduced - np.min(csam_reduced)) / (np.max(csam_reduced) - np.min(csam_reduced))\n",
    "plt.imshow(csam_norm)"
   ]
  },
  {
   "cell_type": "markdown",
   "id": "35df15cc",
   "metadata": {},
   "source": [
    "# Visualization of CSAM Filter Mean Cosine Similarities Along Each Location"
   ]
  },
  {
   "cell_type": "code",
   "execution_count": 88,
   "id": "427dfcda",
   "metadata": {},
   "outputs": [
    {
     "data": {
      "text/plain": [
       "<AxesSubplot:>"
      ]
     },
     "execution_count": 88,
     "metadata": {},
     "output_type": "execute_result"
    },
    {
     "data": {
      "image/png": "[encoded data removed]",
      "text/plain": [
       "<Figure size 432x288 with 2 Axes>"
      ]
     },
     "metadata": {
      "needs_background": "light"
     },
     "output_type": "display_data"
    }
   ],
   "source": [
    "idx_filter_mean = F.normalize(forget_gate[idx].mean(0, keepdims=True), dim=-1)\n",
    "mean_dissimilarity = (F.normalize(forget_gate[idx], dim=-1) * idx_filter_mean).sum(-1).reshape(14, 14)\n",
    "sns.heatmap(mean_dissimilarity.detach().cpu().numpy())"
   ]
  },
  {
   "cell_type": "code",
   "execution_count": 89,
   "id": "738f35cf",
   "metadata": {},
   "outputs": [
    {
     "name": "stderr",
     "output_type": "stream",
     "text": [
      "Clipping input data to the valid range for imshow with RGB data ([0..1] for floats or [0..255] for integers).\n"
     ]
    },
    {
     "data": {
      "image/png": "[encoded data removed]",
      "text/plain": [
       "<Figure size 1152x648 with 6 Axes>"
      ]
     },
     "metadata": {
      "needs_background": "light"
     },
     "output_type": "display_data"
    }
   ],
   "source": [
    "f, axarr = plt.subplots(1,5, figsize=(16,9))\n",
    "axarr[0].imshow(image)\n",
    "axarr[1].imshow(batch_norm)\n",
    "axarr[2].imshow(forget_norm)\n",
    "axarr[3].imshow(csam_norm)\n",
    "sns.heatmap(mean_dissimilarity.detach().cpu().numpy(), ax=axarr[4],\n",
    "           cbar_kws=dict(use_gridspec=False,pad=0.01,shrink=0.25)\n",
    "           )\n",
    "axarr[4].set_box_aspect(1)\n",
    "# axarr[0, 4].imshow(image_datas[3])\n",
    "f.show()"
   ]
  },
  {
   "cell_type": "markdown",
   "id": "460631bd",
   "metadata": {},
   "source": [
    "## Gives some indication of how similar/different each filter is from the others. I.e. what information it takes out from input."
   ]
  },
  {
   "cell_type": "code",
   "execution_count": 382,
   "id": "15ff8202",
   "metadata": {},
   "outputs": [
    {
     "data": {
      "text/plain": [
       "<AxesSubplot:>"
      ]
     },
     "execution_count": 382,
     "metadata": {},
     "output_type": "execute_result"
    },
    {
     "data": {
      "image/png": "[encoded data removed]",
      "text/plain": [
       "<Figure size 432x288 with 2 Axes>"
      ]
     },
     "metadata": {
      "needs_background": "light"
     },
     "output_type": "display_data"
    }
   ],
   "source": [
    "sns.heatmap(forget_cos[idx].mean(-1).reshape(14, 14).detach().cpu().numpy())"
   ]
  },
  {
   "cell_type": "markdown",
   "id": "294e4b2b",
   "metadata": {},
   "source": [
    "# Self Attention"
   ]
  },
  {
   "cell_type": "code",
   "execution_count": null,
   "id": "6559a550",
   "metadata": {},
   "outputs": [],
   "source": []
  },
  {
   "cell_type": "code",
   "execution_count": 4,
   "id": "028dc370",
   "metadata": {},
   "outputs": [
    {
     "name": "stdout",
     "output_type": "stream",
     "text": [
      "Files already downloaded and verified\n"
     ]
    }
   ],
   "source": [
    "cifar100_test_loader = get_test_dataloader(\n",
    "    settings.CIFAR100_TRAIN_MEAN,\n",
    "    settings.CIFAR100_TRAIN_STD,\n",
    "    #settings.CIFAR100_PATH,\n",
    "    num_workers=6,\n",
    "    batch_size=1,\n",
    "    shuffle=False\n",
    "    )"
   ]
  },
  {
   "cell_type": "code",
   "execution_count": 5,
   "id": "a99f2c97",
   "metadata": {},
   "outputs": [],
   "source": [
    "net = resnet18(\n",
    "            variant_name='4', pos_emb_dim=10,\n",
    "            softmax_temp=1, variant_loc=5,\n",
    "            stochastic_stride=False, stride=1\n",
    "        )"
   ]
  },
  {
   "cell_type": "code",
   "execution_count": 6,
   "id": "951d8309",
   "metadata": {},
   "outputs": [
    {
     "data": {
      "text/plain": [
       "ResNet(\n",
       "  (conv1): Sequential(\n",
       "    (0): Conv2d(3, 64, kernel_size=(3, 3), stride=(1, 1), padding=(1, 1), bias=False)\n",
       "    (1): BatchNorm2d(64, eps=1e-05, momentum=0.1, affine=True, track_running_stats=True)\n",
       "    (2): ReLU(inplace=True)\n",
       "  )\n",
       "  (conv2_x): Sequential(\n",
       "    (0): BasicBlock(\n",
       "      (residual_function): Sequential(\n",
       "        (0): Conv2d(64, 64, kernel_size=(3, 3), stride=(1, 1), padding=(1, 1), bias=False)\n",
       "        (1): BatchNorm2d(64, eps=1e-05, momentum=0.1, affine=True, track_running_stats=True)\n",
       "        (2): ReLU(inplace=True)\n",
       "        (3): Conv2d(64, 64, kernel_size=(3, 3), stride=(1, 1), padding=(1, 1), bias=False)\n",
       "        (4): BatchNorm2d(64, eps=1e-05, momentum=0.1, affine=True, track_running_stats=True)\n",
       "      )\n",
       "      (shortcut): Sequential()\n",
       "    )\n",
       "    (1): BasicBlock(\n",
       "      (residual_function): Sequential(\n",
       "        (0): Conv2d(64, 64, kernel_size=(3, 3), stride=(1, 1), padding=(1, 1), bias=False)\n",
       "        (1): BatchNorm2d(64, eps=1e-05, momentum=0.1, affine=True, track_running_stats=True)\n",
       "        (2): ReLU(inplace=True)\n",
       "        (3): Conv2d(64, 64, kernel_size=(3, 3), stride=(1, 1), padding=(1, 1), bias=False)\n",
       "        (4): BatchNorm2d(64, eps=1e-05, momentum=0.1, affine=True, track_running_stats=True)\n",
       "      )\n",
       "      (shortcut): Sequential()\n",
       "    )\n",
       "  )\n",
       "  (conv3_x): Sequential(\n",
       "    (0): BasicBlock(\n",
       "      (residual_function): Sequential(\n",
       "        (0): Conv2d(64, 128, kernel_size=(3, 3), stride=(2, 2), padding=(1, 1), bias=False)\n",
       "        (1): BatchNorm2d(128, eps=1e-05, momentum=0.1, affine=True, track_running_stats=True)\n",
       "        (2): ReLU(inplace=True)\n",
       "        (3): Conv2d(128, 128, kernel_size=(3, 3), stride=(1, 1), padding=(1, 1), bias=False)\n",
       "        (4): BatchNorm2d(128, eps=1e-05, momentum=0.1, affine=True, track_running_stats=True)\n",
       "      )\n",
       "      (shortcut): Sequential(\n",
       "        (0): Conv2d(64, 128, kernel_size=(1, 1), stride=(2, 2), bias=False)\n",
       "        (1): BatchNorm2d(128, eps=1e-05, momentum=0.1, affine=True, track_running_stats=True)\n",
       "      )\n",
       "    )\n",
       "    (1): BasicBlock(\n",
       "      (residual_function): Sequential(\n",
       "        (0): Conv2d(128, 128, kernel_size=(3, 3), stride=(1, 1), padding=(1, 1), bias=False)\n",
       "        (1): BatchNorm2d(128, eps=1e-05, momentum=0.1, affine=True, track_running_stats=True)\n",
       "        (2): ReLU(inplace=True)\n",
       "        (3): Conv2d(128, 128, kernel_size=(3, 3), stride=(1, 1), padding=(1, 1), bias=False)\n",
       "        (4): BatchNorm2d(128, eps=1e-05, momentum=0.1, affine=True, track_running_stats=True)\n",
       "      )\n",
       "      (shortcut): Sequential()\n",
       "    )\n",
       "  )\n",
       "  (conv4_x): Sequential(\n",
       "    (0): BasicBlock(\n",
       "      (residual_function): Sequential(\n",
       "        (0): Conv2d(128, 256, kernel_size=(3, 3), stride=(2, 2), padding=(1, 1), bias=False)\n",
       "        (1): BatchNorm2d(256, eps=1e-05, momentum=0.1, affine=True, track_running_stats=True)\n",
       "        (2): ReLU(inplace=True)\n",
       "        (3): Conv2d(256, 256, kernel_size=(3, 3), stride=(1, 1), padding=(1, 1), bias=False)\n",
       "        (4): BatchNorm2d(256, eps=1e-05, momentum=0.1, affine=True, track_running_stats=True)\n",
       "      )\n",
       "      (shortcut): Sequential(\n",
       "        (0): Conv2d(128, 256, kernel_size=(1, 1), stride=(2, 2), bias=False)\n",
       "        (1): BatchNorm2d(256, eps=1e-05, momentum=0.1, affine=True, track_running_stats=True)\n",
       "      )\n",
       "    )\n",
       "    (1): BasicBlock(\n",
       "      (residual_function): Sequential(\n",
       "        (0): Conv2d(256, 256, kernel_size=(3, 3), stride=(1, 1), padding=(1, 1), bias=False)\n",
       "        (1): BatchNorm2d(256, eps=1e-05, momentum=0.1, affine=True, track_running_stats=True)\n",
       "        (2): ReLU(inplace=True)\n",
       "        (3): Conv2d(256, 256, kernel_size=(3, 3), stride=(1, 1), padding=(1, 1), bias=False)\n",
       "        (4): BatchNorm2d(256, eps=1e-05, momentum=0.1, affine=True, track_running_stats=True)\n",
       "      )\n",
       "      (shortcut): Sequential()\n",
       "    )\n",
       "  )\n",
       "  (conv5_x): Sequential(\n",
       "    (0): BasicBlock(\n",
       "      (residual_function): Sequential(\n",
       "        (0): Conv2d(256, 512, kernel_size=(3, 3), stride=(2, 2), padding=(1, 1), bias=False)\n",
       "        (1): BatchNorm2d(512, eps=1e-05, momentum=0.1, affine=True, track_running_stats=True)\n",
       "        (2): ReLU(inplace=True)\n",
       "        (3): Conv2d(512, 512, kernel_size=(3, 3), stride=(1, 1), padding=(1, 1), bias=False)\n",
       "        (4): BatchNorm2d(512, eps=1e-05, momentum=0.1, affine=True, track_running_stats=True)\n",
       "      )\n",
       "      (shortcut): Sequential(\n",
       "        (0): Conv2d(256, 512, kernel_size=(1, 1), stride=(2, 2), bias=False)\n",
       "        (1): BatchNorm2d(512, eps=1e-05, momentum=0.1, affine=True, track_running_stats=True)\n",
       "      )\n",
       "    )\n",
       "    (1): BasicBlock(\n",
       "      (residual_function): Sequential(\n",
       "        (0): Conv2d(512, 512, kernel_size=(3, 3), stride=(1, 1), padding=(1, 1), bias=False)\n",
       "        (1): BatchNorm2d(512, eps=1e-05, momentum=0.1, affine=True, track_running_stats=True)\n",
       "        (2): ReLU(inplace=True)\n",
       "        (3): Conv2d(512, 512, kernel_size=(3, 3), stride=(1, 1), padding=(1, 1), bias=False)\n",
       "        (4): BatchNorm2d(512, eps=1e-05, momentum=0.1, affine=True, track_running_stats=True)\n",
       "      )\n",
       "      (shortcut): Sequential()\n",
       "    )\n",
       "  )\n",
       "  (avg_pool): AdaptiveAvgPool2d(output_size=(1, 1))\n",
       "  (fc): Linear(in_features=512, out_features=100, bias=True)\n",
       "  (csam): ConvolutionalSelfAttention(\n",
       "    (input_padder): ConstantPad2d(padding=(0, 0, 0, 0), value=0.0)\n",
       "    (positional_encodings): PositionalEncoding2D()\n",
       "    (key_transform): Linear(in_features=522, out_features=522, bias=True)\n",
       "    (query_transform): Linear(in_features=522, out_features=522, bias=True)\n",
       "    (value_transform): Linear(in_features=522, out_features=1, bias=True)\n",
       "  )\n",
       "  (csam_bn): BatchNorm2d(512, eps=1e-05, momentum=0.1, affine=True, track_running_stats=True)\n",
       ")"
      ]
     },
     "execution_count": 6,
     "metadata": {},
     "output_type": "execute_result"
    }
   ],
   "source": [
    "path = '/coc/pskynet4/gstoica3/checkpoints/resnet18/Tuesday_01_February_2022_00h_42m_26s/CSAM_Approach4_BN_PosEmb10_AfterConv5/resnet18-128-best.pth'\n",
    "weights = torch.load(path)\n",
    "net_params = {i[0]:i[1] for i in net.named_parameters()}\n",
    "net.load_state_dict(weights)\n",
    "net.eval()"
   ]
  },
  {
   "cell_type": "code",
   "execution_count": 7,
   "id": "3733e7be",
   "metadata": {},
   "outputs": [],
   "source": [
    "net = net.cuda()"
   ]
  },
  {
   "cell_type": "code",
   "execution_count": 8,
   "id": "b2b03386",
   "metadata": {},
   "outputs": [
    {
     "name": "stderr",
     "output_type": "stream",
     "text": [
      "64it [00:00, 402.32it/s]\n"
     ]
    }
   ],
   "source": [
    "images = []\n",
    "labels = []\n",
    "desired_data = 64\n",
    "for n_iter, (image, label) in tqdm(enumerate(cifar100_test_loader)):\n",
    "    if n_iter >= desired_data: break\n",
    "    image = image.cuda()\n",
    "    images.append(image)\n",
    "    labels.append(label)"
   ]
  },
  {
   "cell_type": "code",
   "execution_count": 9,
   "id": "e76124d6",
   "metadata": {},
   "outputs": [],
   "source": [
    "images = torch.cat(images)\n",
    "labels = torch.cat(labels)"
   ]
  },
  {
   "cell_type": "code",
   "execution_count": 66,
   "id": "dec88d81",
   "metadata": {},
   "outputs": [],
   "source": [
    "predictions = net(images).argmax(-1).detach().cpu().numpy()"
   ]
  },
  {
   "cell_type": "code",
   "execution_count": 68,
   "id": "d641991e",
   "metadata": {},
   "outputs": [
    {
     "data": {
      "text/plain": [
       "array([False,  True, False,  True,  True, False,  True, False,  True,\n",
       "        True, False,  True,  True,  True,  True,  True,  True,  True,\n",
       "        True,  True,  True,  True,  True, False,  True,  True,  True,\n",
       "        True,  True, False,  True, False,  True, False,  True,  True,\n",
       "        True, False,  True,  True,  True,  True,  True, False,  True,\n",
       "        True,  True,  True, False,  True,  True,  True,  True,  True,\n",
       "       False,  True,  True,  True,  True,  True,  True,  True,  True,\n",
       "        True])"
      ]
     },
     "execution_count": 68,
     "metadata": {},
     "output_type": "execute_result"
    }
   ],
   "source": [
    "predictions == labels.numpy()"
   ]
  },
  {
   "cell_type": "code",
   "execution_count": 10,
   "id": "431ff475",
   "metadata": {},
   "outputs": [],
   "source": [
    "csam = net.network_layers[net.variant_loc]"
   ]
  },
  {
   "cell_type": "code",
   "execution_count": 18,
   "id": "b87f1e02",
   "metadata": {},
   "outputs": [
    {
     "name": "stderr",
     "output_type": "stream",
     "text": [
      "100%|███████████████████████████████████████████████████████████████████████████████████████████████████████████████████████████████████████████████████████████████████████████████████████████████████████████████████████████████████████████████████████████████████████████████████| 5/5 [00:00<00:00, 18.86it/s]\n"
     ]
    }
   ],
   "source": [
    "output = images\n",
    "for layer in tqdm(net.network_layers[:net.variant_loc]):\n",
    "    output = layer(output)"
   ]
  },
  {
   "cell_type": "code",
   "execution_count": 47,
   "id": "8faaf418",
   "metadata": {},
   "outputs": [],
   "source": [
    "batch = csam.input_padder(output)                                                            # Pad batch for resolution reduction/preservation\n",
    "batch = batch.permute(0, 2, 3, 1)                                                           # [B,C,H,W] -> [B,H,W,C]\n",
    "batch_pos = csam.maybe_add_positional_encodings(batch)\n",
    "X_l, X_g = csam.split_input(batch_pos, mask_X_g=False)\n",
    "\n",
    "keys = csam.key_transform(X_g)                                                              # [1,B,HW,E]\n",
    "queries = csam.query_transform(X_l)                                                         # [F,B,K^2,E]\n",
    "values = csam.value_transform(X_g)                                                          # [1,B,HW,1]\n",
    "\n",
    "raw_compatibilities = csam.cosine_similarity(\n",
    "    keys, queries                                                                           # [1,B,HW,E], [F,B,K^2,E]\n",
    ")                                                                                           # [F,B,HW,K^2]\n",
    "compatabilities = F.softmax(\n",
    "    csam.appraoch_args['softmax_temp'] * raw_compatibilities,\n",
    "    dim=2\n",
    ")\n",
    "elem_mul = values * compatabilities                                                         # [1,B,HW,1] x [F,B,HW,K^2] -> [F,B,HW,K^2]\n",
    "W_g = elem_mul.sum(dim=2).unsqueeze(-1)                                                     # [F,B,HW,K^2] -> [F,B,K^2] -> [F,B,K^2,1]\n",
    "X_l = X_l[:, :, :, :csam.spatial_C]                                                         # [F,B,K^2,E] -> [F,B,K^2,C]\n",
    "convolved_X = (W_g * X_l).sum(dim=2).permute(1,0,2)                                         # [F,B,K^2,1] x [F,B,K^2,C] -> [F,B,K^2,C] -> [F,B,C] -> [B,F,C]\n",
    "convolved_X = convolved_X.reshape(\n",
    "    -1, csam.convs_height, csam.convs_width, csam.spatial_C\n",
    ")                                                                                           # [B,F,C] -> [B,F_H,F_W,C]\n"
   ]
  },
  {
   "cell_type": "code",
   "execution_count": 48,
   "id": "35dc2f96",
   "metadata": {},
   "outputs": [
    {
     "data": {
      "text/plain": [
       "torch.Size([64, 4, 9, 16])"
      ]
     },
     "execution_count": 48,
     "metadata": {},
     "output_type": "execute_result"
    }
   ],
   "source": [
    "compatabilities = compatabilities.permute(1, 0, 3, 2)\n",
    "compatabilities.shape"
   ]
  },
  {
   "cell_type": "code",
   "execution_count": 49,
   "id": "7ed77678",
   "metadata": {},
   "outputs": [
    {
     "data": {
      "text/plain": [
       "torch.Size([64, 4, 9, 9])"
      ]
     },
     "execution_count": 49,
     "metadata": {},
     "output_type": "execute_result"
    }
   ],
   "source": [
    "compat_cos = csam.cosine_similarity(compatabilities, compatabilities)\n",
    "compat_cos.shape"
   ]
  },
  {
   "cell_type": "code",
   "execution_count": 54,
   "id": "49035751",
   "metadata": {},
   "outputs": [],
   "source": [
    "compatabilities = compatabilities.detach().cpu().numpy()\n",
    "compat_cos = compat_cos.detach().cpu().numpy()"
   ]
  },
  {
   "cell_type": "code",
   "execution_count": 91,
   "id": "458d7332",
   "metadata": {},
   "outputs": [
    {
     "data": {
      "text/plain": [
       "<AxesSubplot:>"
      ]
     },
     "execution_count": 91,
     "metadata": {},
     "output_type": "execute_result"
    },
    {
     "data": {
      "image/png": "[encoded data removed]",
      "text/plain": [
       "<Figure size 432x288 with 2 Axes>"
      ]
     },
     "metadata": {
      "needs_background": "light"
     },
     "output_type": "display_data"
    }
   ],
   "source": [
    "sns.heatmap(compatabilities[0, 0])"
   ]
  },
  {
   "cell_type": "code",
   "execution_count": 90,
   "id": "86e7b084",
   "metadata": {},
   "outputs": [
    {
     "data": {
      "text/plain": [
       "<AxesSubplot:>"
      ]
     },
     "execution_count": 90,
     "metadata": {},
     "output_type": "execute_result"
    },
    {
     "data": {
      "image/png": "[encoded data removed]",
      "text/plain": [
       "<Figure size 432x288 with 2 Axes>"
      ]
     },
     "metadata": {
      "needs_background": "light"
     },
     "output_type": "display_data"
    }
   ],
   "source": [
    "sns.heatmap(compat_cos[0, 0])"
   ]
  },
  {
   "cell_type": "code",
   "execution_count": 87,
   "id": "57d8455c",
   "metadata": {},
   "outputs": [
    {
     "data": {
      "text/plain": [
       "False"
      ]
     },
     "execution_count": 87,
     "metadata": {},
     "output_type": "execute_result"
    }
   ],
   "source": [
    "idx = 2\n",
    "(predictions == labels.numpy())[idx]"
   ]
  },
  {
   "cell_type": "code",
   "execution_count": 88,
   "id": "020fe5f9",
   "metadata": {},
   "outputs": [
    {
     "name": "stderr",
     "output_type": "stream",
     "text": [
      "Clipping input data to the valid range for imshow with RGB data ([0..1] for floats or [0..255] for integers).\n"
     ]
    },
    {
     "name": "stdout",
     "output_type": "stream",
     "text": [
      "seal\n",
      "otter\n"
     ]
    },
    {
     "data": {
      "text/plain": [
       "<matplotlib.image.AxesImage at 0x7f19a51308d0>"
      ]
     },
     "execution_count": 88,
     "metadata": {},
     "output_type": "execute_result"
    },
    {
     "data": {
      "image/png": "[encoded data removed]",
      "text/plain": [
       "<Figure size 432x288 with 1 Axes>"
      ]
     },
     "metadata": {
      "needs_background": "light"
     },
     "output_type": "display_data"
    }
   ],
   "source": [
    "print(id2label[labels[idx].numpy().tolist()])\n",
    "print(id2label[predictions[idx]])\n",
    "image = images[idx].permute(1, 2, 0).detach().cpu().numpy()\n",
    "plt.imshow(image)"
   ]
  },
  {
   "cell_type": "code",
   "execution_count": 89,
   "id": "bb1688ba",
   "metadata": {},
   "outputs": [
    {
     "name": "stderr",
     "output_type": "stream",
     "text": [
      "Clipping input data to the valid range for imshow with RGB data ([0..1] for floats or [0..255] for integers).\n"
     ]
    },
    {
     "data": {
      "image/png": "[encoded data removed]",
      "text/plain": [
       "<Figure size 1152x648 with 9 Axes>"
      ]
     },
     "metadata": {
      "needs_background": "light"
     },
     "output_type": "display_data"
    }
   ],
   "source": [
    "title = '{} | {}'.format(\n",
    "    id2label[labels[idx].numpy().tolist()],\n",
    "    'Correct' if (predictions == labels.numpy())[idx] else 'Wrong'\n",
    ")\n",
    "f, axarr = plt.subplots(1,5, figsize=(16,9))\n",
    "axarr[0].imshow(images[idx].permute(1, 2, 0).detach().cpu().numpy())\n",
    "axarr[0].set_title(title)\n",
    "for i in range(1, 5):\n",
    "    sns.heatmap(compat_cos[idx, i-1], ax=axarr[i],\n",
    "           cbar_kws=dict(use_gridspec=False,pad=0.01,shrink=0.25)\n",
    "           )\n",
    "    axarr[i].set_box_aspect(1)\n",
    "f.show()"
   ]
  },
  {
   "cell_type": "code",
   "execution_count": null,
   "id": "9b9a568e",
   "metadata": {},
   "outputs": [],
   "source": [
    "sa_pca = PCA(n_components=3)\n",
    "\n",
    "sa_pca.fit(compatabilities[0, idx].reshape(-1, 128).detach().cpu().numpy())\n",
    "print('Batch Explained Variance: {}'.format(batch_pca.explained_variance_ratio_))\n",
    "print('Filter Explained Variance: {}'.format(filter_pca.explained_variance_ratio_))\n",
    "print('CSAM Explained Variance: {}'.format(csam_pca.explained_variance_ratio_))\n",
    "\n",
    "batch_reduced = batch_pca.transform(batch[idx].reshape(-1, 128).detach().cpu().numpy()).reshape(16, 16, 3)\n",
    "csam_reduced = csam_pca.transform(convolved_X[idx].reshape(-1, 128).detach().cpu().numpy()).reshape(14, 14, 3)\n",
    "forget_reduced = filter_pca.transform(forget_gate_np[idx]).reshape(14, 14, 3)"
   ]
  },
  {
   "cell_type": "code",
   "execution_count": null,
   "id": "be64aef6",
   "metadata": {},
   "outputs": [],
   "source": [
    "idx_filter_mean = F.normalize(forget_gate[idx].mean(0, keepdims=True), dim=-1)\n",
    "mean_dissimilarity = (F.normalize(forget_gate[idx], dim=-1) * idx_filter_mean).sum(-1).reshape(14, 14)\n",
    "sns.heatmap(mean_dissimilarity.detach().cpu().numpy())"
   ]
  }
 ],
 "metadata": {
  "kernelspec": {
   "display_name": "Python 3",
   "language": "python",
   "name": "python3"
  },
  "language_info": {
   "codemirror_mode": {
    "name": "ipython",
    "version": 3
   },
   "file_extension": ".py",
   "mimetype": "text/x-python",
   "name": "python",
   "nbconvert_exporter": "python",
   "pygments_lexer": "ipython3",
   "version": "3.7.11"
  }
 },
 "nbformat": 4,
 "nbformat_minor": 5
}
