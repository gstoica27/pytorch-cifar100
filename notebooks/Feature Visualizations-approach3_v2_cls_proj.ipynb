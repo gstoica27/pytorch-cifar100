{
 "cells": [
  {
   "cell_type": "code",
   "execution_count": 1,
   "id": "78959559",
   "metadata": {},
   "outputs": [],
   "source": [
    "import sys; sys.path.insert(0, '..')"
   ]
  },
  {
   "cell_type": "code",
   "execution_count": 2,
   "id": "50e1d1f0",
   "metadata": {},
   "outputs": [
    {
     "name": "stderr",
     "output_type": "stream",
     "text": [
      "In /nethome/bdevnani3/anaconda3/envs/p3/lib/python3.8/site-packages/matplotlib/mpl-data/stylelib/_classic_test.mplstyle: \n",
      "The text.latex.preview rcparam was deprecated in Matplotlib 3.3 and will be removed two minor releases later.\n",
      "In /nethome/bdevnani3/anaconda3/envs/p3/lib/python3.8/site-packages/matplotlib/mpl-data/stylelib/_classic_test.mplstyle: \n",
      "The mathtext.fallback_to_cm rcparam was deprecated in Matplotlib 3.3 and will be removed two minor releases later.\n",
      "In /nethome/bdevnani3/anaconda3/envs/p3/lib/python3.8/site-packages/matplotlib/mpl-data/stylelib/_classic_test.mplstyle: Support for setting the 'mathtext.fallback_to_cm' rcParam is deprecated since 3.3 and will be removed two minor releases later; use 'mathtext.fallback : 'cm' instead.\n",
      "In /nethome/bdevnani3/anaconda3/envs/p3/lib/python3.8/site-packages/matplotlib/mpl-data/stylelib/_classic_test.mplstyle: \n",
      "The validate_bool_maybe_none function was deprecated in Matplotlib 3.3 and will be removed two minor releases later.\n",
      "In /nethome/bdevnani3/anaconda3/envs/p3/lib/python3.8/site-packages/matplotlib/mpl-data/stylelib/_classic_test.mplstyle: \n",
      "The savefig.jpeg_quality rcparam was deprecated in Matplotlib 3.3 and will be removed two minor releases later.\n",
      "In /nethome/bdevnani3/anaconda3/envs/p3/lib/python3.8/site-packages/matplotlib/mpl-data/stylelib/_classic_test.mplstyle: \n",
      "The keymap.all_axes rcparam was deprecated in Matplotlib 3.3 and will be removed two minor releases later.\n",
      "In /nethome/bdevnani3/anaconda3/envs/p3/lib/python3.8/site-packages/matplotlib/mpl-data/stylelib/_classic_test.mplstyle: \n",
      "The animation.avconv_path rcparam was deprecated in Matplotlib 3.3 and will be removed two minor releases later.\n",
      "In /nethome/bdevnani3/anaconda3/envs/p3/lib/python3.8/site-packages/matplotlib/mpl-data/stylelib/_classic_test.mplstyle: \n",
      "The animation.avconv_args rcparam was deprecated in Matplotlib 3.3 and will be removed two minor releases later.\n"
     ]
    }
   ],
   "source": [
    "from matplotlib import pyplot as plt\n",
    "import os\n",
    "import torch\n",
    "import torchvision.transforms as transforms\n",
    "from torch.utils.data import DataLoader\n",
    "from tqdm import tqdm\n",
    "from conf import settings\n",
    "from utils import get_network, get_test_dataloader\n",
    "from models.resnet import resnet18"
   ]
  },
  {
   "cell_type": "code",
   "execution_count": 3,
   "id": "e0b1ea97",
   "metadata": {},
   "outputs": [],
   "source": [
    "import torch.nn.functional as F\n",
    "import matplotlib.pyplot as plt\n",
    "import seaborn as sns"
   ]
  },
  {
   "cell_type": "code",
   "execution_count": 4,
   "id": "8223c76c",
   "metadata": {},
   "outputs": [],
   "source": [
    "from sklearn.decomposition import PCA\n",
    "import numpy as np"
   ]
  },
  {
   "cell_type": "markdown",
   "id": "5f0e97d7",
   "metadata": {},
   "source": [
    "## Set up data"
   ]
  },
  {
   "cell_type": "code",
   "execution_count": 5,
   "id": "c6361792",
   "metadata": {},
   "outputs": [
    {
     "name": "stdout",
     "output_type": "stream",
     "text": [
      "baseline missed: 2466 | approach 3 missed: 2305\n"
     ]
    }
   ],
   "source": [
    "baseline_missed = set(np.loadtxt('../baseline_wrong.txt'))\n",
    "approach3_missed = set(np.loadtxt('../approach3_wrong.txt'))\n",
    "print('baseline missed: {} | approach 3 missed: {}'.format(len(baseline_missed), len(approach3_missed)))\n",
    "approach3_desired = baseline_missed - approach3_missed"
   ]
  },
  {
   "cell_type": "code",
   "execution_count": 6,
   "id": "8430b348",
   "metadata": {},
   "outputs": [
    {
     "data": {
      "text/plain": [
       "100"
      ]
     },
     "execution_count": 6,
     "metadata": {},
     "output_type": "execute_result"
    }
   ],
   "source": [
    "id2label = {}\n",
    "with open('/nethome/bdevnani3/raid/pytorch-cifar100/id2label.txt', 'r') as handle:\n",
    "    for idx, line in enumerate(handle):\n",
    "        if idx % 2 == 0:\n",
    "            element, label = line.strip().split(': ')\n",
    "            id2label[int(element)] = label\n",
    "len(id2label)"
   ]
  },
  {
   "cell_type": "code",
   "execution_count": 7,
   "id": "55061b8b",
   "metadata": {},
   "outputs": [
    {
     "name": "stdout",
     "output_type": "stream",
     "text": [
      "Files already downloaded and verified\n"
     ]
    }
   ],
   "source": [
    "cifar100_test_loader = get_test_dataloader(\n",
    "    settings.CIFAR100_TRAIN_MEAN,\n",
    "    settings.CIFAR100_TRAIN_STD,\n",
    "    #settings.CIFAR100_PATH,\n",
    "    num_workers=6,\n",
    "    batch_size=1,\n",
    "    shuffle=False\n",
    "    )"
   ]
  },
  {
   "cell_type": "markdown",
   "id": "043ddd98",
   "metadata": {},
   "source": [
    "## Instantiate model"
   ]
  },
  {
   "cell_type": "code",
   "execution_count": 8,
   "id": "f54fab51",
   "metadata": {},
   "outputs": [
    {
     "name": "stdout",
     "output_type": "stream",
     "text": [
      "{'apply_stochastic_stride': False, 'approach_name': '3_unmasked_cls_proj', 'forget_gate_nonlinearity': 'sigmoid', 'injection_info': [[3, 1, 3]], 'padding': 'same', 'pos_emb_dim': 0, 'random_k': -1, 'seed': 2019, 'softmax_temp': 1, 'stride': 1, 'suffix': '0', 'use_residual_connection': False, 'similarity_metric': 'cosine_similarity'}\n"
     ]
    }
   ],
   "source": [
    "from utils import get_network, get_training_dataloader, get_test_dataloader, WarmUpLR, \\\n",
    "    most_recent_folder, most_recent_weights, last_epoch, best_acc_weights, read_yaml, \\\n",
    "    save_yaml, name_model\n",
    "\n",
    "# Getting configs\n",
    "model_d = \"/srv/share4/gstoica3/checkpoints/resnet18/3_unmasked_cls_proj/CSAM_Approach3_unmasked_cls_proj_BN_PosEmb0_AfterConv(3, 1, 3)_Temp1_StochStrideFalse_Stride1_ResidualFalse_Seed2019_k-1_Poolingsigmoid_0/Tuesday_08_March_2022_21h_16m_28s\"\n",
    "variant_config = read_yaml(f\"{model_d}/convattn.yaml\")\n",
    "# variant_config[\"forget_gate_nonlinearity\"] = \"softmax\"\n",
    "variant_config[\"similarity_metric\"] = \"cosine_similarity\"\n",
    "print(variant_config)"
   ]
  },
  {
   "cell_type": "code",
   "execution_count": 9,
   "id": "2955070d",
   "metadata": {},
   "outputs": [],
   "source": [
    "from models.csam import ConvAttnWrapper"
   ]
  },
  {
   "cell_type": "code",
   "execution_count": 10,
   "id": "093c40eb",
   "metadata": {},
   "outputs": [
    {
     "name": "stdout",
     "output_type": "stream",
     "text": [
      "{'apply_stochastic_stride': False, 'approach_name': '3_unmasked_cls_proj', 'forget_gate_nonlinearity': 'sigmoid', 'injection_info': [[3, 1, 3]], 'padding': 'same', 'pos_emb_dim': 0, 'random_k': -1, 'seed': 2019, 'softmax_temp': 1, 'stride': 1, 'suffix': '0', 'use_residual_connection': False, 'similarity_metric': 'cosine_similarity'}\n"
     ]
    },
    {
     "name": "stderr",
     "output_type": "stream",
     "text": [
      "../models/csam.py:251: UserWarning: This overload of nonzero is deprecated:\n",
      "\tnonzero()\n",
      "Consider using one of the following signatures instead:\n",
      "\tnonzero(*, bool as_tuple) (Triggered internally at  /pytorch/torch/csrc/utils/python_arg_parser.cpp:882.)\n",
      "  self.local_indices[conv_idx] = input_mask[conv_idx].reshape(-1).nonzero().sort()[0].reshape(-1)\n"
     ]
    }
   ],
   "source": [
    "net = resnet18()\n",
    "\n",
    "model = ConvAttnWrapper(backbone=net, variant_kwargs=variant_config).to('cuda:0')"
   ]
  },
  {
   "cell_type": "code",
   "execution_count": 11,
   "id": "3146a87c",
   "metadata": {},
   "outputs": [],
   "source": [
    "# Choose last best path\n",
    "import glob\n",
    "all_best = [best for best in glob.glob(f'{model_d}/*-best.pth')]\n",
    "all_best.sort()\n",
    "path = all_best[-1]"
   ]
  },
  {
   "cell_type": "code",
   "execution_count": 12,
   "id": "96fd08a4",
   "metadata": {},
   "outputs": [],
   "source": [
    "weights = torch.load(path)\n",
    "net_params = {i[0]:i[1] for i in model.named_parameters()}"
   ]
  },
  {
   "cell_type": "code",
   "execution_count": 13,
   "id": "21baa9cf",
   "metadata": {},
   "outputs": [
    {
     "data": {
      "text/plain": [
       "<All keys matched successfully>"
      ]
     },
     "execution_count": 13,
     "metadata": {},
     "output_type": "execute_result"
    }
   ],
   "source": [
    "model.load_state_dict(weights)"
   ]
  },
  {
   "cell_type": "code",
   "execution_count": 14,
   "id": "e99faef0",
   "metadata": {},
   "outputs": [
    {
     "data": {
      "text/plain": [
       "ConvAttnWrapper(\n",
       "  (backbone): ResNet(\n",
       "    (conv1): Sequential(\n",
       "      (0): Conv2d(3, 64, kernel_size=(3, 3), stride=(1, 1), padding=(1, 1), bias=False)\n",
       "      (1): BatchNorm2d(64, eps=1e-05, momentum=0.1, affine=True, track_running_stats=True)\n",
       "      (2): ReLU(inplace=True)\n",
       "    )\n",
       "    (conv2_x): Sequential(\n",
       "      (0): BasicBlock(\n",
       "        (residual_function): Sequential(\n",
       "          (0): Conv2d(64, 64, kernel_size=(3, 3), stride=(1, 1), padding=(1, 1), bias=False)\n",
       "          (1): BatchNorm2d(64, eps=1e-05, momentum=0.1, affine=True, track_running_stats=True)\n",
       "          (2): ReLU(inplace=True)\n",
       "          (3): Conv2d(64, 64, kernel_size=(3, 3), stride=(1, 1), padding=(1, 1), bias=False)\n",
       "          (4): BatchNorm2d(64, eps=1e-05, momentum=0.1, affine=True, track_running_stats=True)\n",
       "        )\n",
       "        (shortcut): Sequential()\n",
       "      )\n",
       "      (1): BasicBlock(\n",
       "        (residual_function): Sequential(\n",
       "          (0): Conv2d(64, 64, kernel_size=(3, 3), stride=(1, 1), padding=(1, 1), bias=False)\n",
       "          (1): BatchNorm2d(64, eps=1e-05, momentum=0.1, affine=True, track_running_stats=True)\n",
       "          (2): ReLU(inplace=True)\n",
       "          (3): Conv2d(64, 64, kernel_size=(3, 3), stride=(1, 1), padding=(1, 1), bias=False)\n",
       "          (4): BatchNorm2d(64, eps=1e-05, momentum=0.1, affine=True, track_running_stats=True)\n",
       "        )\n",
       "        (shortcut): Sequential()\n",
       "      )\n",
       "    )\n",
       "    (conv3_x): Sequential(\n",
       "      (0): BasicBlock(\n",
       "        (residual_function): Sequential(\n",
       "          (0): Conv2d(64, 128, kernel_size=(3, 3), stride=(2, 2), padding=(1, 1), bias=False)\n",
       "          (1): BatchNorm2d(128, eps=1e-05, momentum=0.1, affine=True, track_running_stats=True)\n",
       "          (2): ReLU(inplace=True)\n",
       "          (3): Conv2d(128, 128, kernel_size=(3, 3), stride=(1, 1), padding=(1, 1), bias=False)\n",
       "          (4): BatchNorm2d(128, eps=1e-05, momentum=0.1, affine=True, track_running_stats=True)\n",
       "        )\n",
       "        (shortcut): Sequential(\n",
       "          (0): Conv2d(64, 128, kernel_size=(1, 1), stride=(2, 2), bias=False)\n",
       "          (1): BatchNorm2d(128, eps=1e-05, momentum=0.1, affine=True, track_running_stats=True)\n",
       "        )\n",
       "      )\n",
       "      (1): BasicBlock(\n",
       "        (residual_function): Sequential(\n",
       "          (0): Conv2d(128, 128, kernel_size=(3, 3), stride=(1, 1), padding=(1, 1), bias=False)\n",
       "          (1): BatchNorm2d(128, eps=1e-05, momentum=0.1, affine=True, track_running_stats=True)\n",
       "          (2): ReLU(inplace=True)\n",
       "          (3): Conv2d(128, 128, kernel_size=(3, 3), stride=(1, 1), padding=(1, 1), bias=False)\n",
       "          (4): BatchNorm2d(128, eps=1e-05, momentum=0.1, affine=True, track_running_stats=True)\n",
       "        )\n",
       "        (shortcut): Sequential()\n",
       "      )\n",
       "    )\n",
       "    (conv4_x): Sequential(\n",
       "      (0): BasicBlock(\n",
       "        (residual_function): Sequential(\n",
       "          (0): Conv2d(128, 256, kernel_size=(3, 3), stride=(2, 2), padding=(1, 1), bias=False)\n",
       "          (1): BatchNorm2d(256, eps=1e-05, momentum=0.1, affine=True, track_running_stats=True)\n",
       "          (2): ReLU(inplace=True)\n",
       "          (3): Conv2d(256, 256, kernel_size=(3, 3), stride=(1, 1), padding=(1, 1), bias=False)\n",
       "          (4): BatchNorm2d(256, eps=1e-05, momentum=0.1, affine=True, track_running_stats=True)\n",
       "        )\n",
       "        (shortcut): Sequential(\n",
       "          (0): Conv2d(128, 256, kernel_size=(1, 1), stride=(2, 2), bias=False)\n",
       "          (1): BatchNorm2d(256, eps=1e-05, momentum=0.1, affine=True, track_running_stats=True)\n",
       "        )\n",
       "      )\n",
       "      (1): BasicBlock(\n",
       "        (residual_function): Sequential(\n",
       "          (0): Conv2d(256, 256, kernel_size=(3, 3), stride=(1, 1), padding=(1, 1), bias=False)\n",
       "          (1): BatchNorm2d(256, eps=1e-05, momentum=0.1, affine=True, track_running_stats=True)\n",
       "          (2): ReLU(inplace=True)\n",
       "          (3): Conv2d(256, 256, kernel_size=(3, 3), stride=(1, 1), padding=(1, 1), bias=False)\n",
       "          (4): BatchNorm2d(256, eps=1e-05, momentum=0.1, affine=True, track_running_stats=True)\n",
       "        )\n",
       "        (shortcut): Sequential()\n",
       "      )\n",
       "    )\n",
       "    (conv5_x): Sequential(\n",
       "      (0): BasicBlock(\n",
       "        (residual_function): Sequential(\n",
       "          (0): Conv2d(256, 512, kernel_size=(3, 3), stride=(2, 2), padding=(1, 1), bias=False)\n",
       "          (1): BatchNorm2d(512, eps=1e-05, momentum=0.1, affine=True, track_running_stats=True)\n",
       "          (2): ReLU(inplace=True)\n",
       "          (3): Conv2d(512, 512, kernel_size=(3, 3), stride=(1, 1), padding=(1, 1), bias=False)\n",
       "          (4): BatchNorm2d(512, eps=1e-05, momentum=0.1, affine=True, track_running_stats=True)\n",
       "        )\n",
       "        (shortcut): Sequential(\n",
       "          (0): Conv2d(256, 512, kernel_size=(1, 1), stride=(2, 2), bias=False)\n",
       "          (1): BatchNorm2d(512, eps=1e-05, momentum=0.1, affine=True, track_running_stats=True)\n",
       "        )\n",
       "      )\n",
       "      (1): BasicBlock(\n",
       "        (residual_function): Sequential(\n",
       "          (0): Conv2d(512, 512, kernel_size=(3, 3), stride=(1, 1), padding=(1, 1), bias=False)\n",
       "          (1): BatchNorm2d(512, eps=1e-05, momentum=0.1, affine=True, track_running_stats=True)\n",
       "          (2): ReLU(inplace=True)\n",
       "          (3): Conv2d(512, 512, kernel_size=(3, 3), stride=(1, 1), padding=(1, 1), bias=False)\n",
       "          (4): BatchNorm2d(512, eps=1e-05, momentum=0.1, affine=True, track_running_stats=True)\n",
       "        )\n",
       "        (shortcut): Sequential()\n",
       "      )\n",
       "    )\n",
       "    (avg_pool): AdaptiveAvgPool2d(output_size=(1, 1))\n",
       "    (fc): Linear(in_features=512, out_features=100, bias=True)\n",
       "  )\n",
       "  (network_structure): Sequential(\n",
       "    (0): Sequential(\n",
       "      (0): Conv2d(3, 64, kernel_size=(3, 3), stride=(1, 1), padding=(1, 1), bias=False)\n",
       "      (1): BatchNorm2d(64, eps=1e-05, momentum=0.1, affine=True, track_running_stats=True)\n",
       "      (2): ReLU(inplace=True)\n",
       "    )\n",
       "    (1): Sequential(\n",
       "      (0): BasicBlock(\n",
       "        (residual_function): Sequential(\n",
       "          (0): Conv2d(64, 64, kernel_size=(3, 3), stride=(1, 1), padding=(1, 1), bias=False)\n",
       "          (1): BatchNorm2d(64, eps=1e-05, momentum=0.1, affine=True, track_running_stats=True)\n",
       "          (2): ReLU(inplace=True)\n",
       "          (3): Conv2d(64, 64, kernel_size=(3, 3), stride=(1, 1), padding=(1, 1), bias=False)\n",
       "          (4): BatchNorm2d(64, eps=1e-05, momentum=0.1, affine=True, track_running_stats=True)\n",
       "        )\n",
       "        (shortcut): Sequential()\n",
       "      )\n",
       "      (1): BasicBlock(\n",
       "        (residual_function): Sequential(\n",
       "          (0): Conv2d(64, 64, kernel_size=(3, 3), stride=(1, 1), padding=(1, 1), bias=False)\n",
       "          (1): BatchNorm2d(64, eps=1e-05, momentum=0.1, affine=True, track_running_stats=True)\n",
       "          (2): ReLU(inplace=True)\n",
       "          (3): Conv2d(64, 64, kernel_size=(3, 3), stride=(1, 1), padding=(1, 1), bias=False)\n",
       "          (4): BatchNorm2d(64, eps=1e-05, momentum=0.1, affine=True, track_running_stats=True)\n",
       "        )\n",
       "        (shortcut): Sequential()\n",
       "      )\n",
       "    )\n",
       "    (2): Sequential(\n",
       "      (0): BasicBlock(\n",
       "        (residual_function): Sequential(\n",
       "          (0): Conv2d(64, 128, kernel_size=(3, 3), stride=(2, 2), padding=(1, 1), bias=False)\n",
       "          (1): BatchNorm2d(128, eps=1e-05, momentum=0.1, affine=True, track_running_stats=True)\n",
       "          (2): ReLU(inplace=True)\n",
       "          (3): Conv2d(128, 128, kernel_size=(3, 3), stride=(1, 1), padding=(1, 1), bias=False)\n",
       "          (4): BatchNorm2d(128, eps=1e-05, momentum=0.1, affine=True, track_running_stats=True)\n",
       "        )\n",
       "        (shortcut): Sequential(\n",
       "          (0): Conv2d(64, 128, kernel_size=(1, 1), stride=(2, 2), bias=False)\n",
       "          (1): BatchNorm2d(128, eps=1e-05, momentum=0.1, affine=True, track_running_stats=True)\n",
       "        )\n",
       "      )\n",
       "      (1): BasicBlock(\n",
       "        (residual_function): Sequential(\n",
       "          (0): Conv2d(128, 128, kernel_size=(3, 3), stride=(1, 1), padding=(1, 1), bias=False)\n",
       "          (1): BatchNorm2d(128, eps=1e-05, momentum=0.1, affine=True, track_running_stats=True)\n",
       "          (2): ReLU(inplace=True)\n",
       "          (3): Conv2d(128, 128, kernel_size=(3, 3), stride=(1, 1), padding=(1, 1), bias=False)\n",
       "          (4): BatchNorm2d(128, eps=1e-05, momentum=0.1, affine=True, track_running_stats=True)\n",
       "        )\n",
       "        (shortcut): Sequential()\n",
       "      )\n",
       "    )\n",
       "    (3): ConvolutionalSelfAttention(\n",
       "      (input_padder): ConstantPad2d(padding=(1, 1, 1, 1), value=0.0)\n",
       "      (upsampler): Identity()\n",
       "      (global_transform): Linear(in_features=128, out_features=128, bias=True)\n",
       "      (conv_proj): Linear(in_features=128, out_features=16384, bias=True)\n",
       "    )\n",
       "    (4): BatchNorm2d(128, eps=1e-05, momentum=0.1, affine=True, track_running_stats=True)\n",
       "    (5): Sequential(\n",
       "      (0): BasicBlock(\n",
       "        (residual_function): Sequential(\n",
       "          (0): Conv2d(128, 256, kernel_size=(3, 3), stride=(2, 2), padding=(1, 1), bias=False)\n",
       "          (1): BatchNorm2d(256, eps=1e-05, momentum=0.1, affine=True, track_running_stats=True)\n",
       "          (2): ReLU(inplace=True)\n",
       "          (3): Conv2d(256, 256, kernel_size=(3, 3), stride=(1, 1), padding=(1, 1), bias=False)\n",
       "          (4): BatchNorm2d(256, eps=1e-05, momentum=0.1, affine=True, track_running_stats=True)\n",
       "        )\n",
       "        (shortcut): Sequential(\n",
       "          (0): Conv2d(128, 256, kernel_size=(1, 1), stride=(2, 2), bias=False)\n",
       "          (1): BatchNorm2d(256, eps=1e-05, momentum=0.1, affine=True, track_running_stats=True)\n",
       "        )\n",
       "      )\n",
       "      (1): BasicBlock(\n",
       "        (residual_function): Sequential(\n",
       "          (0): Conv2d(256, 256, kernel_size=(3, 3), stride=(1, 1), padding=(1, 1), bias=False)\n",
       "          (1): BatchNorm2d(256, eps=1e-05, momentum=0.1, affine=True, track_running_stats=True)\n",
       "          (2): ReLU(inplace=True)\n",
       "          (3): Conv2d(256, 256, kernel_size=(3, 3), stride=(1, 1), padding=(1, 1), bias=False)\n",
       "          (4): BatchNorm2d(256, eps=1e-05, momentum=0.1, affine=True, track_running_stats=True)\n",
       "        )\n",
       "        (shortcut): Sequential()\n",
       "      )\n",
       "    )\n",
       "    (6): Sequential(\n",
       "      (0): BasicBlock(\n",
       "        (residual_function): Sequential(\n",
       "          (0): Conv2d(256, 512, kernel_size=(3, 3), stride=(2, 2), padding=(1, 1), bias=False)\n",
       "          (1): BatchNorm2d(512, eps=1e-05, momentum=0.1, affine=True, track_running_stats=True)\n",
       "          (2): ReLU(inplace=True)\n",
       "          (3): Conv2d(512, 512, kernel_size=(3, 3), stride=(1, 1), padding=(1, 1), bias=False)\n",
       "          (4): BatchNorm2d(512, eps=1e-05, momentum=0.1, affine=True, track_running_stats=True)\n",
       "        )\n",
       "        (shortcut): Sequential(\n",
       "          (0): Conv2d(256, 512, kernel_size=(1, 1), stride=(2, 2), bias=False)\n",
       "          (1): BatchNorm2d(512, eps=1e-05, momentum=0.1, affine=True, track_running_stats=True)\n",
       "        )\n",
       "      )\n",
       "      (1): BasicBlock(\n",
       "        (residual_function): Sequential(\n",
       "          (0): Conv2d(512, 512, kernel_size=(3, 3), stride=(1, 1), padding=(1, 1), bias=False)\n",
       "          (1): BatchNorm2d(512, eps=1e-05, momentum=0.1, affine=True, track_running_stats=True)\n",
       "          (2): ReLU(inplace=True)\n",
       "          (3): Conv2d(512, 512, kernel_size=(3, 3), stride=(1, 1), padding=(1, 1), bias=False)\n",
       "          (4): BatchNorm2d(512, eps=1e-05, momentum=0.1, affine=True, track_running_stats=True)\n",
       "        )\n",
       "        (shortcut): Sequential()\n",
       "      )\n",
       "    )\n",
       "    (7): AdaptiveAvgPool2d(output_size=(1, 1))\n",
       "    (8): Flatten(start_dim=1, end_dim=-1)\n",
       "    (9): Linear(in_features=512, out_features=100, bias=True)\n",
       "  )\n",
       ")"
      ]
     },
     "execution_count": 14,
     "metadata": {},
     "output_type": "execute_result"
    }
   ],
   "source": [
    "model.eval()"
   ]
  },
  {
   "cell_type": "code",
   "execution_count": 15,
   "id": "5fa23b34",
   "metadata": {},
   "outputs": [
    {
     "name": "stderr",
     "output_type": "stream",
     "text": [
      "682it [00:00, 1264.77it/s]\n"
     ]
    }
   ],
   "source": [
    "desired_images = []\n",
    "desired_labels = []\n",
    "wrong_images = []\n",
    "wrong_labels = []\n",
    "desired_flag = False\n",
    "wrong_flag = False\n",
    "desired_data = 64\n",
    "for n_iter, (image, label) in tqdm(enumerate(cifar100_test_loader)):\n",
    "    image = image.cuda()\n",
    "    if n_iter in approach3_desired and not desired_flag:\n",
    "        desired_images.append(image)\n",
    "        desired_labels.append(label)\n",
    "    if n_iter in approach3_missed and not wrong_flag:\n",
    "        wrong_images.append(image)\n",
    "        wrong_labels.append(label)\n",
    "    if len(desired_images) >= desired_data:\n",
    "        desired_flag = True\n",
    "    if len(wrong_images) >= desired_data:\n",
    "        wrong_flag = True\n",
    "    if desired_flag and wrong_flag: break"
   ]
  },
  {
   "cell_type": "code",
   "execution_count": 16,
   "id": "53af712b",
   "metadata": {},
   "outputs": [],
   "source": [
    "desired_images = torch.cat(desired_images)\n",
    "desired_labels = torch.cat(desired_labels)\n",
    "wrong_images = torch.cat(wrong_images)\n",
    "wrong_labels = torch.cat(wrong_labels)"
   ]
  },
  {
   "cell_type": "code",
   "execution_count": 17,
   "id": "cd219ffe",
   "metadata": {},
   "outputs": [
    {
     "name": "stderr",
     "output_type": "stream",
     "text": [
      "/nethome/bdevnani3/anaconda3/envs/p3/lib/python3.8/site-packages/torch/nn/functional.py:1639: UserWarning: nn.functional.sigmoid is deprecated. Use torch.sigmoid instead.\n",
      "  warnings.warn(\"nn.functional.sigmoid is deprecated. Use torch.sigmoid instead.\")\n"
     ]
    }
   ],
   "source": [
    "predictions = model(wrong_images)"
   ]
  },
  {
   "cell_type": "code",
   "execution_count": 18,
   "id": "bdd035bc",
   "metadata": {},
   "outputs": [],
   "source": [
    "predictions = predictions.argmax(-1).detach().cpu().numpy()"
   ]
  },
  {
   "cell_type": "code",
   "execution_count": 19,
   "id": "41c146cc",
   "metadata": {},
   "outputs": [
    {
     "name": "stderr",
     "output_type": "stream",
     "text": [
      "100%|██████████| 3/3 [00:00<00:00, 1107.55it/s]\n"
     ]
    }
   ],
   "source": [
    "out = wrong_images\n",
    "inject_layer, inject_number, filter_size = model.variant_kwargs['injection_info'][0]\n",
    "for layer in tqdm(model.network_structure[:inject_layer]):\n",
    "    out = layer(out)"
   ]
  },
  {
   "cell_type": "code",
   "execution_count": 20,
   "id": "08d01bec",
   "metadata": {},
   "outputs": [
    {
     "data": {
      "text/plain": [
       "torch.Size([64, 128, 16, 16])"
      ]
     },
     "execution_count": 20,
     "metadata": {},
     "output_type": "execute_result"
    }
   ],
   "source": [
    "out.shape"
   ]
  },
  {
   "cell_type": "code",
   "execution_count": 21,
   "id": "2fa2fba5",
   "metadata": {},
   "outputs": [],
   "source": [
    "import math \n",
    "import torch.nn as nn\n",
    "import sklearn\n",
    "\n",
    "csam = model.network_structure[inject_layer]\n",
    "# output = csam.approach3_v2(out)\n",
    "\n"
   ]
  },
  {
   "cell_type": "code",
   "execution_count": 22,
   "id": "31ff7aab",
   "metadata": {},
   "outputs": [
    {
     "data": {
      "text/plain": [
       "torch.Size([64, 16, 16, 128])"
      ]
     },
     "execution_count": 22,
     "metadata": {},
     "output_type": "execute_result"
    }
   ],
   "source": [
    "batch = csam.input_padder(out)\n",
    "batch = batch.permute(0, 2, 3, 1)\n",
    "output = csam.approach3_v2_cls_proj(batch)\n",
    "output.shape"
   ]
  },
  {
   "cell_type": "code",
   "execution_count": 23,
   "id": "4e4a8699",
   "metadata": {},
   "outputs": [
    {
     "name": "stdout",
     "output_type": "stream",
     "text": [
      "torch.Size([64, 16, 16, 128])\n",
      "torch.Size([64, 324, 1])\n"
     ]
    }
   ],
   "source": [
    "valid_elements = (1 - csam.padding_mask).flatten(2, 4)\n",
    "X = csam.maybe_add_positional_encodings(batch)                                                                  # [B,H,W,E]\n",
    "batch_size, H, W, _ = X.shape\n",
    "X = X.view(-1, H * W, X.shape[-1])                                                                              # [B,HW,E]\n",
    "values = csam.global_transform(X)                                                                               # [B,HW,C]\n",
    "\n",
    "X_normed = F.normalize(X, dim=-1)                                                                               # [B,HW,C]\n",
    "cls_normed = F.normalize(csam.cls, dim=-1)\n",
    "if csam.approach_args[\"similarity_metric\"] == 'cosine_similarity':\n",
    "    scores = torch.matmul(X_normed, cls_normed.transpose(1, 0)).transpose(2, 1)                                 # [B,HW,C] x ([1,HW] -> [HW,1]) -> [B,HW,1] -> [B,1,HW]\n",
    "elif csam.approach_args[\"similarity_metric\"] == 'dot_product':\n",
    "    scores = torch.matmul(X, csam.cls.transpose(1, 0)).transpose(2, 1)                                          # [B,HW,C] x ([1,HW] -> [HW,1]) -> [B,HW,1] -> [B,1,HW]\n",
    "attn = csam.masked_softmax(                                                                                     # [B,1,HW]\n",
    "    scores, \n",
    "    mask=valid_elements,                                                                                        # Mask out padding indices [1, 1, HW]\n",
    "    dim=-1, epsilon=1e-5 \n",
    ")                                                                                                               # [B,1,HW]\n",
    "\n",
    "filter_vec = torch.bmm(attn, values)                                                                            # [B,1,C]\n",
    "filter_vals = (filter_vec * X).sum(-1, keepdim=True)                                                            # [B,1,C] x [B,HW,C] -> [B,HW,1]\n",
    "projection_matrices = csam.conv_proj(filter_vec.squeeze(1)).reshape(-1, csam.spatial_C, csam.spatial_C)         # f([B,1,C] -> [B,C]) -> [B,CC] -> [B,C,C]\n",
    "X_projected = torch.bmm(X, projection_matrices)                                                                 # [B,HW,C] x [B,C,C]\n",
    "local_mask = csam.local_mask.flatten(1).transpose(1, 0)\n",
    "filters = F.sigmoid(filter_vals)\n",
    "weighted_X = filters * X                                                           # [B,HW,C] x [B,HW,1] -> [B,HW,C]\n",
    "output = torch.matmul(weighted_X.transpose(2, 1), local_mask).transpose(2, 1)\n",
    "output = output.reshape(\n",
    "    batch_size, csam.convs_height, csam.convs_width, csam.spatial_C\n",
    ")\n",
    "\n",
    "print(output.shape)\n",
    "print(filters.shape)"
   ]
  },
  {
   "cell_type": "code",
   "execution_count": 24,
   "id": "0dbcac2a",
   "metadata": {},
   "outputs": [
    {
     "data": {
      "text/plain": [
       "torch.Size([64, 16, 16])"
      ]
     },
     "execution_count": 24,
     "metadata": {},
     "output_type": "execute_result"
    }
   ],
   "source": [
    "filters.shape\n",
    "filters = filters.squeeze(-1).reshape(64, 18,18)\n",
    "filters = filters[:, 1:17, 1:17]\n",
    "filters.shape"
   ]
  },
  {
   "cell_type": "code",
   "execution_count": 25,
   "id": "c3aa0aa8",
   "metadata": {},
   "outputs": [
    {
     "data": {
      "text/plain": [
       "torch.Size([64, 16, 16, 128])"
      ]
     },
     "execution_count": 25,
     "metadata": {},
     "output_type": "execute_result"
    }
   ],
   "source": [
    "output.shape"
   ]
  },
  {
   "cell_type": "markdown",
   "id": "c453de42",
   "metadata": {},
   "source": [
    "# Visualization Script"
   ]
  },
  {
   "cell_type": "code",
   "execution_count": 41,
   "id": "d6ad770e",
   "metadata": {},
   "outputs": [],
   "source": [
    "idx = 10"
   ]
  },
  {
   "cell_type": "code",
   "execution_count": 42,
   "id": "585bd0f9",
   "metadata": {},
   "outputs": [
    {
     "name": "stdout",
     "output_type": "stream",
     "text": [
      "Batch Explained Variance: [0.19220711 0.13971709 0.12156197]\n",
      "Filter Explained Variance: [1.]\n"
     ]
    }
   ],
   "source": [
    "batch_pca = PCA(n_components=3)\n",
    "filter_pca = PCA(n_components=1)\n",
    "\n",
    "batch_pca.fit(out.permute(0,2,3,1)[idx].reshape(256, 128).detach().cpu().numpy())\n",
    "filter_pca.fit(filters[idx].reshape(256, 1).detach().cpu().numpy())\n",
    "batch_pca.fit(output[idx].reshape(256, 128).detach().cpu().numpy())\n",
    "print('Batch Explained Variance: {}'.format(batch_pca.explained_variance_ratio_))\n",
    "print('Filter Explained Variance: {}'.format(filter_pca.explained_variance_ratio_))\n",
    "# print('CSAM Explained Variance: {}'.format(csam_pca.explained_variance_ratio_))"
   ]
  },
  {
   "cell_type": "code",
   "execution_count": 43,
   "id": "e84840ea",
   "metadata": {},
   "outputs": [],
   "source": [
    "batch_reduced = batch_pca.transform(out.permute(0,2,3,1)[idx].reshape(256, 128).detach().cpu().numpy()).reshape(16, 16, 3)\n",
    "filter_reduced = filter_pca.transform(filters[idx].reshape(256, 1).detach().cpu().numpy()).reshape(16, 16, 1)\n",
    "csam_reduced = batch_pca.transform(output[idx].reshape(256, 128).detach().cpu().numpy()).reshape(16, 16, 3)\n"
   ]
  },
  {
   "cell_type": "markdown",
   "id": "e561a259",
   "metadata": {},
   "source": [
    "# Image"
   ]
  },
  {
   "cell_type": "code",
   "execution_count": 44,
   "id": "23fed50b",
   "metadata": {},
   "outputs": [
    {
     "name": "stderr",
     "output_type": "stream",
     "text": [
      "Clipping input data to the valid range for imshow with RGB data ([0..1] for floats or [0..255] for integers).\n"
     ]
    },
    {
     "name": "stdout",
     "output_type": "stream",
     "text": [
      "shark\n",
      "dolphin\n"
     ]
    },
    {
     "data": {
      "text/plain": [
       "<matplotlib.image.AxesImage at 0x7fab8bea2a00>"
      ]
     },
     "execution_count": 44,
     "metadata": {},
     "output_type": "execute_result"
    },
    {
     "data": {
      "image/png": "[encoded data removed]",
      "text/plain": [
       "<Figure size 432x288 with 1 Axes>"
      ]
     },
     "metadata": {
      "needs_background": "light"
     },
     "output_type": "display_data"
    }
   ],
   "source": [
    "label = id2label[wrong_labels[idx].numpy().tolist()]\n",
    "print(label)\n",
    "print(id2label[predictions[idx]])\n",
    "image = wrong_images[idx].permute(1, 2, 0).detach().cpu().numpy()\n",
    "plt.imshow(image)"
   ]
  },
  {
   "cell_type": "markdown",
   "id": "bd6d32df",
   "metadata": {},
   "source": [
    "# Visualization of CSAM Input from Vision Backbone"
   ]
  },
  {
   "cell_type": "code",
   "execution_count": 45,
   "id": "b851d540",
   "metadata": {
    "scrolled": true
   },
   "outputs": [
    {
     "data": {
      "text/plain": [
       "<matplotlib.image.AxesImage at 0x7fab8be7b7c0>"
      ]
     },
     "execution_count": 45,
     "metadata": {},
     "output_type": "execute_result"
    },
    {
     "data": {
      "image/png": "[encoded data removed]",
      "text/plain": [
       "<Figure size 432x288 with 1 Axes>"
      ]
     },
     "metadata": {
      "needs_background": "light"
     },
     "output_type": "display_data"
    }
   ],
   "source": [
    "batch_norm = (batch_reduced - np.min(batch_reduced)) / (np.max(batch_reduced) - np.min(batch_reduced))\n",
    "plt.imshow(batch_norm) "
   ]
  },
  {
   "cell_type": "markdown",
   "id": "56e7ca89",
   "metadata": {},
   "source": [
    "# Visualization of CSAM Filter "
   ]
  },
  {
   "cell_type": "code",
   "execution_count": 46,
   "id": "2423987b",
   "metadata": {},
   "outputs": [
    {
     "data": {
      "text/plain": [
       "<AxesSubplot:>"
      ]
     },
     "execution_count": 46,
     "metadata": {},
     "output_type": "execute_result"
    },
    {
     "data": {
      "image/png": "[encoded data removed]",
      "text/plain": [
       "<Figure size 432x288 with 2 Axes>"
      ]
     },
     "metadata": {
      "needs_background": "light"
     },
     "output_type": "display_data"
    }
   ],
   "source": [
    "filter_norm = (filter_reduced - np.min(filter_reduced)) / (np.max(filter_reduced) - np.min(filter_reduced))\n",
    "# plt.imshow(filter_norm)\n",
    "sns.heatmap(filter_norm.squeeze(-1))"
   ]
  },
  {
   "cell_type": "markdown",
   "id": "319f7d46",
   "metadata": {},
   "source": [
    "# Visualization of CSAM Output"
   ]
  },
  {
   "cell_type": "code",
   "execution_count": 47,
   "id": "00a883b9",
   "metadata": {},
   "outputs": [
    {
     "data": {
      "text/plain": [
       "<matplotlib.image.AxesImage at 0x7fab8bd1c9a0>"
      ]
     },
     "execution_count": 47,
     "metadata": {},
     "output_type": "execute_result"
    },
    {
     "data": {
      "image/png": "[encoded data removed]",
      "text/plain": [
       "<Figure size 432x288 with 1 Axes>"
      ]
     },
     "metadata": {
      "needs_background": "light"
     },
     "output_type": "display_data"
    }
   ],
   "source": [
    "csam_norm = (csam_reduced - np.min(csam_reduced)) / (np.max(csam_reduced) - np.min(csam_reduced))\n",
    "plt.imshow(csam_norm)"
   ]
  },
  {
   "cell_type": "markdown",
   "id": "9e68417b",
   "metadata": {},
   "source": [
    "# Combined"
   ]
  },
  {
   "cell_type": "code",
   "execution_count": 48,
   "id": "738f35cf",
   "metadata": {
    "scrolled": true
   },
   "outputs": [
    {
     "name": "stderr",
     "output_type": "stream",
     "text": [
      "Clipping input data to the valid range for imshow with RGB data ([0..1] for floats or [0..255] for integers).\n"
     ]
    },
    {
     "data": {
      "image/png": "[encoded data removed]",
      "text/plain": [
       "<Figure size 1152x648 with 5 Axes>"
      ]
     },
     "metadata": {
      "needs_background": "light"
     },
     "output_type": "display_data"
    }
   ],
   "source": [
    "f, axarr = plt.subplots(1,4, figsize=(16,9))\n",
    "axarr[0].imshow(image)\n",
    "axarr[0].title.set_text(f'{label}')\n",
    "axarr[1].imshow(batch_norm)\n",
    "axarr[1].title.set_text('Layer Input')\n",
    "axarr[2].imshow(filter_norm)\n",
    "axarr[2].title.set_text('Filter')\n",
    "sns.heatmap(filter_norm.squeeze(-1), ax=axarr[2],\n",
    "           cbar_kws=dict(use_gridspec=True,pad=0.01,shrink=0.25)\n",
    "           )\n",
    "axarr[3].title.set_text('Layer Output')\n",
    "axarr[3].imshow(csam_norm)\n",
    "f.show()"
   ]
  },
  {
   "cell_type": "markdown",
   "id": "e4445163",
   "metadata": {},
   "source": [
    "## Filter deviation from uniform"
   ]
  },
  {
   "cell_type": "code",
   "execution_count": 49,
   "id": "5baa7044",
   "metadata": {},
   "outputs": [
    {
     "name": "stdout",
     "output_type": "stream",
     "text": [
      "5.545177444479562 0.0\n"
     ]
    },
    {
     "name": "stderr",
     "output_type": "stream",
     "text": [
      "/nethome/bdevnani3/anaconda3/envs/p3/lib/python3.8/site-packages/sklearn/metrics/cluster/_supervised.py:58: UserWarning: Clustering metrics expects discrete values but received continuous values for label, and continuous values for target\n",
      "  warnings.warn(msg, UserWarning)\n",
      "/nethome/bdevnani3/anaconda3/envs/p3/lib/python3.8/site-packages/sklearn/metrics/cluster/_supervised.py:58: UserWarning: Clustering metrics expects discrete values but received continuous values for label, and continuous values for target\n",
      "  warnings.warn(msg, UserWarning)\n",
      "/nethome/bdevnani3/anaconda3/envs/p3/lib/python3.8/site-packages/sklearn/metrics/cluster/_supervised.py:58: UserWarning: Clustering metrics expects discrete values but received continuous values for label, and continuous values for target\n",
      "  warnings.warn(msg, UserWarning)\n",
      "/nethome/bdevnani3/anaconda3/envs/p3/lib/python3.8/site-packages/sklearn/metrics/cluster/_supervised.py:58: UserWarning: Clustering metrics expects discrete values but received continuous values for label, and continuous values for target\n",
      "  warnings.warn(msg, UserWarning)\n",
      "/nethome/bdevnani3/anaconda3/envs/p3/lib/python3.8/site-packages/sklearn/metrics/cluster/_supervised.py:58: UserWarning: Clustering metrics expects discrete values but received continuous values for label, and continuous values for target\n",
      "  warnings.warn(msg, UserWarning)\n",
      "/nethome/bdevnani3/anaconda3/envs/p3/lib/python3.8/site-packages/sklearn/metrics/cluster/_supervised.py:58: UserWarning: Clustering metrics expects discrete values but received continuous values for label, and continuous values for target\n",
      "  warnings.warn(msg, UserWarning)\n",
      "/nethome/bdevnani3/anaconda3/envs/p3/lib/python3.8/site-packages/sklearn/metrics/cluster/_supervised.py:58: UserWarning: Clustering metrics expects discrete values but received continuous values for label, and continuous values for target\n",
      "  warnings.warn(msg, UserWarning)\n",
      "/nethome/bdevnani3/anaconda3/envs/p3/lib/python3.8/site-packages/sklearn/metrics/cluster/_supervised.py:58: UserWarning: Clustering metrics expects discrete values but received continuous values for label, and continuous values for target\n",
      "  warnings.warn(msg, UserWarning)\n",
      "/nethome/bdevnani3/anaconda3/envs/p3/lib/python3.8/site-packages/sklearn/metrics/cluster/_supervised.py:58: UserWarning: Clustering metrics expects discrete values but received continuous values for label, and continuous values for target\n",
      "  warnings.warn(msg, UserWarning)\n",
      "/nethome/bdevnani3/anaconda3/envs/p3/lib/python3.8/site-packages/sklearn/metrics/cluster/_supervised.py:58: UserWarning: Clustering metrics expects discrete values but received continuous values for label, and continuous values for target\n",
      "  warnings.warn(msg, UserWarning)\n",
      "/nethome/bdevnani3/anaconda3/envs/p3/lib/python3.8/site-packages/sklearn/metrics/cluster/_supervised.py:58: UserWarning: Clustering metrics expects discrete values but received continuous values for label, and continuous values for target\n",
      "  warnings.warn(msg, UserWarning)\n",
      "/nethome/bdevnani3/anaconda3/envs/p3/lib/python3.8/site-packages/sklearn/metrics/cluster/_supervised.py:58: UserWarning: Clustering metrics expects discrete values but received continuous values for label, and continuous values for target\n",
      "  warnings.warn(msg, UserWarning)\n",
      "/nethome/bdevnani3/anaconda3/envs/p3/lib/python3.8/site-packages/sklearn/metrics/cluster/_supervised.py:58: UserWarning: Clustering metrics expects discrete values but received continuous values for label, and continuous values for target\n",
      "  warnings.warn(msg, UserWarning)\n",
      "/nethome/bdevnani3/anaconda3/envs/p3/lib/python3.8/site-packages/sklearn/metrics/cluster/_supervised.py:58: UserWarning: Clustering metrics expects discrete values but received continuous values for label, and continuous values for target\n",
      "  warnings.warn(msg, UserWarning)\n",
      "/nethome/bdevnani3/anaconda3/envs/p3/lib/python3.8/site-packages/sklearn/metrics/cluster/_supervised.py:58: UserWarning: Clustering metrics expects discrete values but received continuous values for label, and continuous values for target\n",
      "  warnings.warn(msg, UserWarning)\n",
      "/nethome/bdevnani3/anaconda3/envs/p3/lib/python3.8/site-packages/sklearn/metrics/cluster/_supervised.py:58: UserWarning: Clustering metrics expects discrete values but received continuous values for label, and continuous values for target\n",
      "  warnings.warn(msg, UserWarning)\n",
      "/nethome/bdevnani3/anaconda3/envs/p3/lib/python3.8/site-packages/sklearn/metrics/cluster/_supervised.py:58: UserWarning: Clustering metrics expects discrete values but received continuous values for label, and continuous values for target\n",
      "  warnings.warn(msg, UserWarning)\n",
      "/nethome/bdevnani3/anaconda3/envs/p3/lib/python3.8/site-packages/sklearn/metrics/cluster/_supervised.py:58: UserWarning: Clustering metrics expects discrete values but received continuous values for label, and continuous values for target\n",
      "  warnings.warn(msg, UserWarning)\n",
      "/nethome/bdevnani3/anaconda3/envs/p3/lib/python3.8/site-packages/sklearn/metrics/cluster/_supervised.py:58: UserWarning: Clustering metrics expects discrete values but received continuous values for label, and continuous values for target\n",
      "  warnings.warn(msg, UserWarning)\n",
      "/nethome/bdevnani3/anaconda3/envs/p3/lib/python3.8/site-packages/sklearn/metrics/cluster/_supervised.py:58: UserWarning: Clustering metrics expects discrete values but received continuous values for label, and continuous values for target\n",
      "  warnings.warn(msg, UserWarning)\n"
     ]
    }
   ],
   "source": [
    "import sklearn\n",
    "devs = []\n",
    "for i in range(20):\n",
    "    np.random.seed(seed=i)\n",
    "    uniform_dist = np.random.uniform(size = filter_norm.shape)\n",
    "    dev = sklearn.metrics.mutual_info_score(filter_norm.flatten(), uniform_dist.flatten())\n",
    "    devs.append(dev)\n",
    "print(np.mean(devs), np.std(devs) )"
   ]
  },
  {
   "cell_type": "code",
   "execution_count": 50,
   "id": "980d45e8",
   "metadata": {},
   "outputs": [
    {
     "data": {
      "text/plain": [
       "<AxesSubplot:>"
      ]
     },
     "execution_count": 50,
     "metadata": {},
     "output_type": "execute_result"
    },
    {
     "data": {
      "image/png": "[encoded data removed]",
      "text/plain": [
       "<Figure size 432x288 with 2 Axes>"
      ]
     },
     "metadata": {
      "needs_background": "light"
     },
     "output_type": "display_data"
    }
   ],
   "source": [
    "sim = sklearn.metrics.pairwise.cosine_similarity(filter_norm.squeeze(-1))\n",
    "sns.heatmap(sim)\n"
   ]
  },
  {
   "cell_type": "code",
   "execution_count": 51,
   "id": "32febc86",
   "metadata": {},
   "outputs": [
    {
     "name": "stderr",
     "output_type": "stream",
     "text": [
      "Clipping input data to the valid range for imshow with RGB data ([0..1] for floats or [0..255] for integers).\n"
     ]
    },
    {
     "data": {
      "text/plain": [
       "<AxesSubplot:title={'center':'Filter Row Similarity'}>"
      ]
     },
     "execution_count": 51,
     "metadata": {},
     "output_type": "execute_result"
    },
    {
     "data": {
      "image/png": "[encoded data removed]",
      "text/plain": [
       "<Figure size 1152x648 with 5 Axes>"
      ]
     },
     "metadata": {
      "needs_background": "light"
     },
     "output_type": "display_data"
    }
   ],
   "source": [
    "sim = sklearn.metrics.pairwise.cosine_similarity(filter_norm.squeeze(-1))\n",
    "f, axarr = plt.subplots(1,3, figsize=(16,9))\n",
    "axarr[0].imshow(image)\n",
    "axarr[0].title.set_text(f'{label}')\n",
    "axarr[1].imshow(filter_norm)\n",
    "axarr[1].title.set_text(f'Filter')\n",
    "sns.heatmap(filter_norm.squeeze(-1), ax=axarr[1],\n",
    "           cbar_kws=dict(use_gridspec=True,pad=0.01,shrink=0.25)\n",
    "           )\n",
    "axarr[2].imshow(filter_norm)\n",
    "axarr[2].title.set_text(f'Filter Row Similarity')\n",
    "sns.heatmap(sim, ax=axarr[2],\n",
    "           cbar_kws=dict(use_gridspec=True,pad=0.01,shrink=0.25)\n",
    "           )"
   ]
  },
  {
   "cell_type": "code",
   "execution_count": null,
   "id": "9165f60c",
   "metadata": {},
   "outputs": [],
   "source": []
  }
 ],
 "metadata": {
  "kernelspec": {
   "display_name": "Python 3",
   "language": "python",
   "name": "python3"
  },
  "language_info": {
   "codemirror_mode": {
    "name": "ipython",
    "version": 3
   },
   "file_extension": ".py",
   "mimetype": "text/x-python",
   "name": "python",
   "nbconvert_exporter": "python",
   "pygments_lexer": "ipython3",
   "version": "3.8.5"
  }
 },
 "nbformat": 4,
 "nbformat_minor": 5
}
