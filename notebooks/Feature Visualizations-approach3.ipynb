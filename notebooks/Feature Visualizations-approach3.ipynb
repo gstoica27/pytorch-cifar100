{
 "cells": [
  {
   "cell_type": "code",
   "execution_count": 1,
   "id": "78959559",
   "metadata": {},
   "outputs": [],
   "source": [
    "import sys; sys.path.insert(0, '..')"
   ]
  },
  {
   "cell_type": "code",
   "execution_count": 2,
   "id": "50e1d1f0",
   "metadata": {},
   "outputs": [
    {
     "name": "stderr",
     "output_type": "stream",
     "text": [
      "In /nethome/bdevnani3/anaconda3/envs/p3/lib/python3.8/site-packages/matplotlib/mpl-data/stylelib/_classic_test.mplstyle: \n",
      "The text.latex.preview rcparam was deprecated in Matplotlib 3.3 and will be removed two minor releases later.\n",
      "In /nethome/bdevnani3/anaconda3/envs/p3/lib/python3.8/site-packages/matplotlib/mpl-data/stylelib/_classic_test.mplstyle: \n",
      "The mathtext.fallback_to_cm rcparam was deprecated in Matplotlib 3.3 and will be removed two minor releases later.\n",
      "In /nethome/bdevnani3/anaconda3/envs/p3/lib/python3.8/site-packages/matplotlib/mpl-data/stylelib/_classic_test.mplstyle: Support for setting the 'mathtext.fallback_to_cm' rcParam is deprecated since 3.3 and will be removed two minor releases later; use 'mathtext.fallback : 'cm' instead.\n",
      "In /nethome/bdevnani3/anaconda3/envs/p3/lib/python3.8/site-packages/matplotlib/mpl-data/stylelib/_classic_test.mplstyle: \n",
      "The validate_bool_maybe_none function was deprecated in Matplotlib 3.3 and will be removed two minor releases later.\n",
      "In /nethome/bdevnani3/anaconda3/envs/p3/lib/python3.8/site-packages/matplotlib/mpl-data/stylelib/_classic_test.mplstyle: \n",
      "The savefig.jpeg_quality rcparam was deprecated in Matplotlib 3.3 and will be removed two minor releases later.\n",
      "In /nethome/bdevnani3/anaconda3/envs/p3/lib/python3.8/site-packages/matplotlib/mpl-data/stylelib/_classic_test.mplstyle: \n",
      "The keymap.all_axes rcparam was deprecated in Matplotlib 3.3 and will be removed two minor releases later.\n",
      "In /nethome/bdevnani3/anaconda3/envs/p3/lib/python3.8/site-packages/matplotlib/mpl-data/stylelib/_classic_test.mplstyle: \n",
      "The animation.avconv_path rcparam was deprecated in Matplotlib 3.3 and will be removed two minor releases later.\n",
      "In /nethome/bdevnani3/anaconda3/envs/p3/lib/python3.8/site-packages/matplotlib/mpl-data/stylelib/_classic_test.mplstyle: \n",
      "The animation.avconv_args rcparam was deprecated in Matplotlib 3.3 and will be removed two minor releases later.\n"
     ]
    }
   ],
   "source": [
    "from matplotlib import pyplot as plt\n",
    "import os\n",
    "import torch\n",
    "import torchvision.transforms as transforms\n",
    "from torch.utils.data import DataLoader\n",
    "from tqdm import tqdm\n",
    "from conf import settings\n",
    "from utils import get_network, get_test_dataloader\n",
    "from models.resnet import resnet18"
   ]
  },
  {
   "cell_type": "code",
   "execution_count": 3,
   "id": "e0b1ea97",
   "metadata": {},
   "outputs": [],
   "source": [
    "import torch.nn.functional as F\n",
    "import matplotlib.pyplot as plt\n",
    "import seaborn as sns"
   ]
  },
  {
   "cell_type": "code",
   "execution_count": 4,
   "id": "8223c76c",
   "metadata": {},
   "outputs": [],
   "source": [
    "from sklearn.decomposition import PCA\n",
    "import numpy as np"
   ]
  },
  {
   "cell_type": "markdown",
   "id": "5f0e97d7",
   "metadata": {},
   "source": [
    "## Set up data"
   ]
  },
  {
   "cell_type": "code",
   "execution_count": 6,
   "id": "c6361792",
   "metadata": {},
   "outputs": [
    {
     "name": "stdout",
     "output_type": "stream",
     "text": [
      "baseline missed: 2466 | approach 3 missed: 2305\n"
     ]
    }
   ],
   "source": [
    "baseline_missed = set(np.loadtxt('../baseline_wrong.txt'))\n",
    "approach3_missed = set(np.loadtxt('../approach3_wrong.txt'))\n",
    "print('baseline missed: {} | approach 3 missed: {}'.format(len(baseline_missed), len(approach3_missed)))\n",
    "approach3_desired = baseline_missed - approach3_missed"
   ]
  },
  {
   "cell_type": "code",
   "execution_count": 7,
   "id": "8430b348",
   "metadata": {},
   "outputs": [
    {
     "data": {
      "text/plain": [
       "100"
      ]
     },
     "execution_count": 7,
     "metadata": {},
     "output_type": "execute_result"
    }
   ],
   "source": [
    "id2label = {}\n",
    "with open('/nethome/bdevnani3/raid/pytorch-cifar100/id2label.txt', 'r') as handle:\n",
    "    for idx, line in enumerate(handle):\n",
    "        if idx % 2 == 0:\n",
    "            element, label = line.strip().split(': ')\n",
    "            id2label[int(element)] = label\n",
    "len(id2label)"
   ]
  },
  {
   "cell_type": "code",
   "execution_count": 8,
   "id": "55061b8b",
   "metadata": {},
   "outputs": [
    {
     "name": "stdout",
     "output_type": "stream",
     "text": [
      "Downloading https://www.cs.toronto.edu/~kriz/cifar-100-python.tar.gz to data/cifar-100-python/cifar-100-python.tar.gz\n"
     ]
    },
    {
     "data": {
      "application/vnd.jupyter.widget-view+json": {
       "model_id": "488a826c4ec543e9b3e14e884140984e",
       "version_major": 2,
       "version_minor": 0
      },
      "text/plain": [
       "0it [00:00, ?it/s]"
      ]
     },
     "metadata": {},
     "output_type": "display_data"
    },
    {
     "name": "stdout",
     "output_type": "stream",
     "text": [
      "Extracting data/cifar-100-python/cifar-100-python.tar.gz to data/cifar-100-python\n"
     ]
    }
   ],
   "source": [
    "cifar100_test_loader = get_test_dataloader(\n",
    "    settings.CIFAR100_TRAIN_MEAN,\n",
    "    settings.CIFAR100_TRAIN_STD,\n",
    "    #settings.CIFAR100_PATH,\n",
    "    num_workers=6,\n",
    "    batch_size=1,\n",
    "    shuffle=False\n",
    "    )"
   ]
  },
  {
   "cell_type": "markdown",
   "id": "043ddd98",
   "metadata": {},
   "source": [
    "## Instantiate model"
   ]
  },
  {
   "cell_type": "code",
   "execution_count": 9,
   "id": "f54fab51",
   "metadata": {},
   "outputs": [],
   "source": [
    "from utils import get_network, get_training_dataloader, get_test_dataloader, WarmUpLR, \\\n",
    "    most_recent_folder, most_recent_weights, last_epoch, best_acc_weights, read_yaml, \\\n",
    "    save_yaml, name_model\n",
    "\n",
    "# Getting configs\n",
    "\n",
    "variant_config = read_yaml(\"/srv/share4/gstoica3/checkpoints/taylor/checkpoints/resnet18/3/CSAM_Approach3_BN_PosEmb0_AfterConv(3, 1, 3)_Temp1_StochStrideFalse_Stride1_ResidualFalse_k-1_0/Tuesday_01_March_2022_17h_05m_40s/convattn.yaml\")\n"
   ]
  },
  {
   "cell_type": "code",
   "execution_count": 10,
   "id": "2955070d",
   "metadata": {},
   "outputs": [],
   "source": [
    "from models.csam import ConvAttnWrapper"
   ]
  },
  {
   "cell_type": "code",
   "execution_count": 11,
   "id": "093c40eb",
   "metadata": {},
   "outputs": [
    {
     "name": "stderr",
     "output_type": "stream",
     "text": [
      "../models/csam.py:245: UserWarning: This overload of nonzero is deprecated:\n",
      "\tnonzero()\n",
      "Consider using one of the following signatures instead:\n",
      "\tnonzero(*, bool as_tuple) (Triggered internally at  /pytorch/torch/csrc/utils/python_arg_parser.cpp:882.)\n",
      "  self.local_indices[conv_idx] = input_mask[conv_idx].reshape(-1).nonzero().sort()[0].reshape(-1)\n"
     ]
    }
   ],
   "source": [
    "net = resnet18()\n",
    "\n",
    "model = ConvAttnWrapper(backbone=net, variant_kwargs=variant_config).to('cuda:0')"
   ]
  },
  {
   "cell_type": "code",
   "execution_count": 12,
   "id": "be0b5e15",
   "metadata": {},
   "outputs": [],
   "source": [
    "path = '/srv/share4/gstoica3/checkpoints/taylor/checkpoints/resnet18/3/CSAM_Approach3_BN_PosEmb0_AfterConv(3, 1, 3)_Temp1_StochStrideFalse_Stride1_ResidualFalse_k-1_0/Tuesday_01_March_2022_17h_05m_40s/resnet18-191-best.pth'\n"
   ]
  },
  {
   "cell_type": "code",
   "execution_count": 13,
   "id": "96fd08a4",
   "metadata": {},
   "outputs": [],
   "source": [
    "weights = torch.load(path)\n",
    "net_params = {i[0]:i[1] for i in model.named_parameters()}"
   ]
  },
  {
   "cell_type": "code",
   "execution_count": 14,
   "id": "21baa9cf",
   "metadata": {},
   "outputs": [
    {
     "data": {
      "text/plain": [
       "<All keys matched successfully>"
      ]
     },
     "execution_count": 14,
     "metadata": {},
     "output_type": "execute_result"
    }
   ],
   "source": [
    "model.load_state_dict(weights)"
   ]
  },
  {
   "cell_type": "code",
   "execution_count": 15,
   "id": "e99faef0",
   "metadata": {},
   "outputs": [
    {
     "data": {
      "text/plain": [
       "ConvAttnWrapper(\n",
       "  (backbone): ResNet(\n",
       "    (conv1): Sequential(\n",
       "      (0): Conv2d(3, 64, kernel_size=(3, 3), stride=(1, 1), padding=(1, 1), bias=False)\n",
       "      (1): BatchNorm2d(64, eps=1e-05, momentum=0.1, affine=True, track_running_stats=True)\n",
       "      (2): ReLU(inplace=True)\n",
       "    )\n",
       "    (conv2_x): Sequential(\n",
       "      (0): BasicBlock(\n",
       "        (residual_function): Sequential(\n",
       "          (0): Conv2d(64, 64, kernel_size=(3, 3), stride=(1, 1), padding=(1, 1), bias=False)\n",
       "          (1): BatchNorm2d(64, eps=1e-05, momentum=0.1, affine=True, track_running_stats=True)\n",
       "          (2): ReLU(inplace=True)\n",
       "          (3): Conv2d(64, 64, kernel_size=(3, 3), stride=(1, 1), padding=(1, 1), bias=False)\n",
       "          (4): BatchNorm2d(64, eps=1e-05, momentum=0.1, affine=True, track_running_stats=True)\n",
       "        )\n",
       "        (shortcut): Sequential()\n",
       "      )\n",
       "      (1): BasicBlock(\n",
       "        (residual_function): Sequential(\n",
       "          (0): Conv2d(64, 64, kernel_size=(3, 3), stride=(1, 1), padding=(1, 1), bias=False)\n",
       "          (1): BatchNorm2d(64, eps=1e-05, momentum=0.1, affine=True, track_running_stats=True)\n",
       "          (2): ReLU(inplace=True)\n",
       "          (3): Conv2d(64, 64, kernel_size=(3, 3), stride=(1, 1), padding=(1, 1), bias=False)\n",
       "          (4): BatchNorm2d(64, eps=1e-05, momentum=0.1, affine=True, track_running_stats=True)\n",
       "        )\n",
       "        (shortcut): Sequential()\n",
       "      )\n",
       "    )\n",
       "    (conv3_x): Sequential(\n",
       "      (0): BasicBlock(\n",
       "        (residual_function): Sequential(\n",
       "          (0): Conv2d(64, 128, kernel_size=(3, 3), stride=(2, 2), padding=(1, 1), bias=False)\n",
       "          (1): BatchNorm2d(128, eps=1e-05, momentum=0.1, affine=True, track_running_stats=True)\n",
       "          (2): ReLU(inplace=True)\n",
       "          (3): Conv2d(128, 128, kernel_size=(3, 3), stride=(1, 1), padding=(1, 1), bias=False)\n",
       "          (4): BatchNorm2d(128, eps=1e-05, momentum=0.1, affine=True, track_running_stats=True)\n",
       "        )\n",
       "        (shortcut): Sequential(\n",
       "          (0): Conv2d(64, 128, kernel_size=(1, 1), stride=(2, 2), bias=False)\n",
       "          (1): BatchNorm2d(128, eps=1e-05, momentum=0.1, affine=True, track_running_stats=True)\n",
       "        )\n",
       "      )\n",
       "      (1): BasicBlock(\n",
       "        (residual_function): Sequential(\n",
       "          (0): Conv2d(128, 128, kernel_size=(3, 3), stride=(1, 1), padding=(1, 1), bias=False)\n",
       "          (1): BatchNorm2d(128, eps=1e-05, momentum=0.1, affine=True, track_running_stats=True)\n",
       "          (2): ReLU(inplace=True)\n",
       "          (3): Conv2d(128, 128, kernel_size=(3, 3), stride=(1, 1), padding=(1, 1), bias=False)\n",
       "          (4): BatchNorm2d(128, eps=1e-05, momentum=0.1, affine=True, track_running_stats=True)\n",
       "        )\n",
       "        (shortcut): Sequential()\n",
       "      )\n",
       "    )\n",
       "    (conv4_x): Sequential(\n",
       "      (0): BasicBlock(\n",
       "        (residual_function): Sequential(\n",
       "          (0): Conv2d(128, 256, kernel_size=(3, 3), stride=(2, 2), padding=(1, 1), bias=False)\n",
       "          (1): BatchNorm2d(256, eps=1e-05, momentum=0.1, affine=True, track_running_stats=True)\n",
       "          (2): ReLU(inplace=True)\n",
       "          (3): Conv2d(256, 256, kernel_size=(3, 3), stride=(1, 1), padding=(1, 1), bias=False)\n",
       "          (4): BatchNorm2d(256, eps=1e-05, momentum=0.1, affine=True, track_running_stats=True)\n",
       "        )\n",
       "        (shortcut): Sequential(\n",
       "          (0): Conv2d(128, 256, kernel_size=(1, 1), stride=(2, 2), bias=False)\n",
       "          (1): BatchNorm2d(256, eps=1e-05, momentum=0.1, affine=True, track_running_stats=True)\n",
       "        )\n",
       "      )\n",
       "      (1): BasicBlock(\n",
       "        (residual_function): Sequential(\n",
       "          (0): Conv2d(256, 256, kernel_size=(3, 3), stride=(1, 1), padding=(1, 1), bias=False)\n",
       "          (1): BatchNorm2d(256, eps=1e-05, momentum=0.1, affine=True, track_running_stats=True)\n",
       "          (2): ReLU(inplace=True)\n",
       "          (3): Conv2d(256, 256, kernel_size=(3, 3), stride=(1, 1), padding=(1, 1), bias=False)\n",
       "          (4): BatchNorm2d(256, eps=1e-05, momentum=0.1, affine=True, track_running_stats=True)\n",
       "        )\n",
       "        (shortcut): Sequential()\n",
       "      )\n",
       "    )\n",
       "    (conv5_x): Sequential(\n",
       "      (0): BasicBlock(\n",
       "        (residual_function): Sequential(\n",
       "          (0): Conv2d(256, 512, kernel_size=(3, 3), stride=(2, 2), padding=(1, 1), bias=False)\n",
       "          (1): BatchNorm2d(512, eps=1e-05, momentum=0.1, affine=True, track_running_stats=True)\n",
       "          (2): ReLU(inplace=True)\n",
       "          (3): Conv2d(512, 512, kernel_size=(3, 3), stride=(1, 1), padding=(1, 1), bias=False)\n",
       "          (4): BatchNorm2d(512, eps=1e-05, momentum=0.1, affine=True, track_running_stats=True)\n",
       "        )\n",
       "        (shortcut): Sequential(\n",
       "          (0): Conv2d(256, 512, kernel_size=(1, 1), stride=(2, 2), bias=False)\n",
       "          (1): BatchNorm2d(512, eps=1e-05, momentum=0.1, affine=True, track_running_stats=True)\n",
       "        )\n",
       "      )\n",
       "      (1): BasicBlock(\n",
       "        (residual_function): Sequential(\n",
       "          (0): Conv2d(512, 512, kernel_size=(3, 3), stride=(1, 1), padding=(1, 1), bias=False)\n",
       "          (1): BatchNorm2d(512, eps=1e-05, momentum=0.1, affine=True, track_running_stats=True)\n",
       "          (2): ReLU(inplace=True)\n",
       "          (3): Conv2d(512, 512, kernel_size=(3, 3), stride=(1, 1), padding=(1, 1), bias=False)\n",
       "          (4): BatchNorm2d(512, eps=1e-05, momentum=0.1, affine=True, track_running_stats=True)\n",
       "        )\n",
       "        (shortcut): Sequential()\n",
       "      )\n",
       "    )\n",
       "    (avg_pool): AdaptiveAvgPool2d(output_size=(1, 1))\n",
       "    (fc): Linear(in_features=512, out_features=100, bias=True)\n",
       "  )\n",
       "  (network_structure): Sequential(\n",
       "    (0): Sequential(\n",
       "      (0): Conv2d(3, 64, kernel_size=(3, 3), stride=(1, 1), padding=(1, 1), bias=False)\n",
       "      (1): BatchNorm2d(64, eps=1e-05, momentum=0.1, affine=True, track_running_stats=True)\n",
       "      (2): ReLU(inplace=True)\n",
       "    )\n",
       "    (1): Sequential(\n",
       "      (0): BasicBlock(\n",
       "        (residual_function): Sequential(\n",
       "          (0): Conv2d(64, 64, kernel_size=(3, 3), stride=(1, 1), padding=(1, 1), bias=False)\n",
       "          (1): BatchNorm2d(64, eps=1e-05, momentum=0.1, affine=True, track_running_stats=True)\n",
       "          (2): ReLU(inplace=True)\n",
       "          (3): Conv2d(64, 64, kernel_size=(3, 3), stride=(1, 1), padding=(1, 1), bias=False)\n",
       "          (4): BatchNorm2d(64, eps=1e-05, momentum=0.1, affine=True, track_running_stats=True)\n",
       "        )\n",
       "        (shortcut): Sequential()\n",
       "      )\n",
       "      (1): BasicBlock(\n",
       "        (residual_function): Sequential(\n",
       "          (0): Conv2d(64, 64, kernel_size=(3, 3), stride=(1, 1), padding=(1, 1), bias=False)\n",
       "          (1): BatchNorm2d(64, eps=1e-05, momentum=0.1, affine=True, track_running_stats=True)\n",
       "          (2): ReLU(inplace=True)\n",
       "          (3): Conv2d(64, 64, kernel_size=(3, 3), stride=(1, 1), padding=(1, 1), bias=False)\n",
       "          (4): BatchNorm2d(64, eps=1e-05, momentum=0.1, affine=True, track_running_stats=True)\n",
       "        )\n",
       "        (shortcut): Sequential()\n",
       "      )\n",
       "    )\n",
       "    (2): Sequential(\n",
       "      (0): BasicBlock(\n",
       "        (residual_function): Sequential(\n",
       "          (0): Conv2d(64, 128, kernel_size=(3, 3), stride=(2, 2), padding=(1, 1), bias=False)\n",
       "          (1): BatchNorm2d(128, eps=1e-05, momentum=0.1, affine=True, track_running_stats=True)\n",
       "          (2): ReLU(inplace=True)\n",
       "          (3): Conv2d(128, 128, kernel_size=(3, 3), stride=(1, 1), padding=(1, 1), bias=False)\n",
       "          (4): BatchNorm2d(128, eps=1e-05, momentum=0.1, affine=True, track_running_stats=True)\n",
       "        )\n",
       "        (shortcut): Sequential(\n",
       "          (0): Conv2d(64, 128, kernel_size=(1, 1), stride=(2, 2), bias=False)\n",
       "          (1): BatchNorm2d(128, eps=1e-05, momentum=0.1, affine=True, track_running_stats=True)\n",
       "        )\n",
       "      )\n",
       "      (1): BasicBlock(\n",
       "        (residual_function): Sequential(\n",
       "          (0): Conv2d(128, 128, kernel_size=(3, 3), stride=(1, 1), padding=(1, 1), bias=False)\n",
       "          (1): BatchNorm2d(128, eps=1e-05, momentum=0.1, affine=True, track_running_stats=True)\n",
       "          (2): ReLU(inplace=True)\n",
       "          (3): Conv2d(128, 128, kernel_size=(3, 3), stride=(1, 1), padding=(1, 1), bias=False)\n",
       "          (4): BatchNorm2d(128, eps=1e-05, momentum=0.1, affine=True, track_running_stats=True)\n",
       "        )\n",
       "        (shortcut): Sequential()\n",
       "      )\n",
       "    )\n",
       "    (3): ConvolutionalSelfAttention(\n",
       "      (input_padder): ConstantPad2d(padding=(1, 1, 1, 1), value=0.0)\n",
       "      (upsampler): Identity()\n",
       "      (global_transform): Linear(in_features=128, out_features=128, bias=True)\n",
       "    )\n",
       "    (4): BatchNorm2d(128, eps=1e-05, momentum=0.1, affine=True, track_running_stats=True)\n",
       "    (5): Sequential(\n",
       "      (0): BasicBlock(\n",
       "        (residual_function): Sequential(\n",
       "          (0): Conv2d(128, 256, kernel_size=(3, 3), stride=(2, 2), padding=(1, 1), bias=False)\n",
       "          (1): BatchNorm2d(256, eps=1e-05, momentum=0.1, affine=True, track_running_stats=True)\n",
       "          (2): ReLU(inplace=True)\n",
       "          (3): Conv2d(256, 256, kernel_size=(3, 3), stride=(1, 1), padding=(1, 1), bias=False)\n",
       "          (4): BatchNorm2d(256, eps=1e-05, momentum=0.1, affine=True, track_running_stats=True)\n",
       "        )\n",
       "        (shortcut): Sequential(\n",
       "          (0): Conv2d(128, 256, kernel_size=(1, 1), stride=(2, 2), bias=False)\n",
       "          (1): BatchNorm2d(256, eps=1e-05, momentum=0.1, affine=True, track_running_stats=True)\n",
       "        )\n",
       "      )\n",
       "      (1): BasicBlock(\n",
       "        (residual_function): Sequential(\n",
       "          (0): Conv2d(256, 256, kernel_size=(3, 3), stride=(1, 1), padding=(1, 1), bias=False)\n",
       "          (1): BatchNorm2d(256, eps=1e-05, momentum=0.1, affine=True, track_running_stats=True)\n",
       "          (2): ReLU(inplace=True)\n",
       "          (3): Conv2d(256, 256, kernel_size=(3, 3), stride=(1, 1), padding=(1, 1), bias=False)\n",
       "          (4): BatchNorm2d(256, eps=1e-05, momentum=0.1, affine=True, track_running_stats=True)\n",
       "        )\n",
       "        (shortcut): Sequential()\n",
       "      )\n",
       "    )\n",
       "    (6): Sequential(\n",
       "      (0): BasicBlock(\n",
       "        (residual_function): Sequential(\n",
       "          (0): Conv2d(256, 512, kernel_size=(3, 3), stride=(2, 2), padding=(1, 1), bias=False)\n",
       "          (1): BatchNorm2d(512, eps=1e-05, momentum=0.1, affine=True, track_running_stats=True)\n",
       "          (2): ReLU(inplace=True)\n",
       "          (3): Conv2d(512, 512, kernel_size=(3, 3), stride=(1, 1), padding=(1, 1), bias=False)\n",
       "          (4): BatchNorm2d(512, eps=1e-05, momentum=0.1, affine=True, track_running_stats=True)\n",
       "        )\n",
       "        (shortcut): Sequential(\n",
       "          (0): Conv2d(256, 512, kernel_size=(1, 1), stride=(2, 2), bias=False)\n",
       "          (1): BatchNorm2d(512, eps=1e-05, momentum=0.1, affine=True, track_running_stats=True)\n",
       "        )\n",
       "      )\n",
       "      (1): BasicBlock(\n",
       "        (residual_function): Sequential(\n",
       "          (0): Conv2d(512, 512, kernel_size=(3, 3), stride=(1, 1), padding=(1, 1), bias=False)\n",
       "          (1): BatchNorm2d(512, eps=1e-05, momentum=0.1, affine=True, track_running_stats=True)\n",
       "          (2): ReLU(inplace=True)\n",
       "          (3): Conv2d(512, 512, kernel_size=(3, 3), stride=(1, 1), padding=(1, 1), bias=False)\n",
       "          (4): BatchNorm2d(512, eps=1e-05, momentum=0.1, affine=True, track_running_stats=True)\n",
       "        )\n",
       "        (shortcut): Sequential()\n",
       "      )\n",
       "    )\n",
       "    (7): AdaptiveAvgPool2d(output_size=(1, 1))\n",
       "    (8): Flatten(start_dim=1, end_dim=-1)\n",
       "    (9): Linear(in_features=512, out_features=100, bias=True)\n",
       "  )\n",
       ")"
      ]
     },
     "execution_count": 15,
     "metadata": {},
     "output_type": "execute_result"
    }
   ],
   "source": [
    "model.eval()"
   ]
  },
  {
   "cell_type": "code",
   "execution_count": 16,
   "id": "5fa23b34",
   "metadata": {},
   "outputs": [
    {
     "name": "stderr",
     "output_type": "stream",
     "text": [
      "\n",
      "0it [00:00, ?it/s]\u001b[A\n",
      "109it [00:00, 1089.81it/s]\u001b[A\n",
      "256it [00:00, 1309.77it/s]\u001b[A\n",
      "403it [00:00, 1382.41it/s]\u001b[A\n",
      "682it [00:00, 1396.83it/s]\u001b[A\n"
     ]
    }
   ],
   "source": [
    "desired_images = []\n",
    "desired_labels = []\n",
    "wrong_images = []\n",
    "wrong_labels = []\n",
    "desired_flag = False\n",
    "wrong_flag = False\n",
    "desired_data = 64\n",
    "for n_iter, (image, label) in tqdm(enumerate(cifar100_test_loader)):\n",
    "    image = image.cuda()\n",
    "    if n_iter in approach3_desired and not desired_flag:\n",
    "        desired_images.append(image)\n",
    "        desired_labels.append(label)\n",
    "    if n_iter in approach3_missed and not wrong_flag:\n",
    "        wrong_images.append(image)\n",
    "        wrong_labels.append(label)\n",
    "    if len(desired_images) >= desired_data:\n",
    "        desired_flag = True\n",
    "    if len(wrong_images) >= desired_data:\n",
    "        wrong_flag = True\n",
    "    if desired_flag and wrong_flag: break"
   ]
  },
  {
   "cell_type": "code",
   "execution_count": 17,
   "id": "53af712b",
   "metadata": {},
   "outputs": [],
   "source": [
    "desired_images = torch.cat(desired_images)\n",
    "desired_labels = torch.cat(desired_labels)\n",
    "wrong_images = torch.cat(wrong_images)\n",
    "wrong_labels = torch.cat(wrong_labels)"
   ]
  },
  {
   "cell_type": "code",
   "execution_count": 18,
   "id": "cd219ffe",
   "metadata": {},
   "outputs": [
    {
     "name": "stdout",
     "output_type": "stream",
     "text": [
      "torch.Size([64, 128, 16, 16])\n",
      "torch.Size([64, 128, 18, 18])\n"
     ]
    }
   ],
   "source": [
    "predictions = model(wrong_images)"
   ]
  },
  {
   "cell_type": "code",
   "execution_count": 19,
   "id": "bdd035bc",
   "metadata": {},
   "outputs": [],
   "source": [
    "predictions = predictions.argmax(-1).detach().cpu().numpy()"
   ]
  },
  {
   "cell_type": "code",
   "execution_count": 20,
   "id": "41c146cc",
   "metadata": {},
   "outputs": [
    {
     "name": "stderr",
     "output_type": "stream",
     "text": [
      "\n",
      "100%|██████████| 3/3 [00:00<00:00, 1768.75it/s]\n"
     ]
    }
   ],
   "source": [
    "out = wrong_images\n",
    "inject_layer, inject_number, filter_size = model.variant_kwargs['injection_info'][0]\n",
    "for layer in tqdm(model.network_structure[:inject_layer]):\n",
    "    out = layer(out)"
   ]
  },
  {
   "cell_type": "code",
   "execution_count": 21,
   "id": "08d01bec",
   "metadata": {},
   "outputs": [
    {
     "data": {
      "text/plain": [
       "torch.Size([64, 128, 16, 16])"
      ]
     },
     "execution_count": 21,
     "metadata": {},
     "output_type": "execute_result"
    }
   ],
   "source": [
    "out.shape"
   ]
  },
  {
   "cell_type": "code",
   "execution_count": 81,
   "id": "4e4a8699",
   "metadata": {},
   "outputs": [
    {
     "name": "stdout",
     "output_type": "stream",
     "text": [
      "torch.Size([64, 324, 9])\n",
      "torch.Size([64, 324, 9])\n",
      "torch.Size([64, 324, 9])\n",
      "torch.Size([64, 324, 9])\n",
      "torch.Size([64, 324, 9])\n",
      "torch.Size([64, 324, 9])\n",
      "torch.Size([64, 324, 9])\n",
      "torch.Size([64, 324, 9])\n",
      "torch.Size([64, 324, 9])\n",
      "torch.Size([64, 324, 9])\n",
      "torch.Size([64, 324, 9])\n",
      "torch.Size([64, 324, 9])\n",
      "torch.Size([64, 324, 9])\n",
      "torch.Size([64, 324, 9])\n",
      "torch.Size([64, 324, 9])\n",
      "torch.Size([64, 324, 9])\n",
      "torch.Size([64, 324, 9])\n",
      "torch.Size([64, 324, 9])\n",
      "torch.Size([64, 324, 9])\n",
      "torch.Size([64, 324, 9])\n",
      "torch.Size([64, 324, 9])\n",
      "torch.Size([64, 324, 9])\n",
      "torch.Size([64, 324, 9])\n",
      "torch.Size([64, 324, 9])\n",
      "torch.Size([64, 324, 9])\n",
      "torch.Size([64, 324, 9])\n",
      "torch.Size([64, 324, 9])\n",
      "torch.Size([64, 324, 9])\n",
      "torch.Size([64, 324, 9])\n",
      "torch.Size([64, 324, 9])\n",
      "torch.Size([64, 324, 9])\n",
      "torch.Size([64, 324, 9])\n",
      "torch.Size([64, 324, 9])\n",
      "torch.Size([64, 324, 9])\n",
      "torch.Size([64, 324, 9])\n",
      "torch.Size([64, 324, 9])\n",
      "torch.Size([64, 324, 9])\n",
      "torch.Size([64, 324, 9])\n",
      "torch.Size([64, 324, 9])\n",
      "torch.Size([64, 324, 9])\n",
      "torch.Size([64, 324, 9])\n",
      "torch.Size([64, 324, 9])\n",
      "torch.Size([64, 324, 9])\n",
      "torch.Size([64, 324, 9])\n",
      "torch.Size([64, 324, 9])\n",
      "torch.Size([64, 324, 9])\n",
      "torch.Size([64, 324, 9])\n",
      "torch.Size([64, 324, 9])\n",
      "torch.Size([64, 324, 9])\n",
      "torch.Size([64, 324, 9])\n",
      "torch.Size([64, 324, 9])\n",
      "torch.Size([64, 324, 9])\n",
      "torch.Size([64, 324, 9])\n",
      "torch.Size([64, 324, 9])\n",
      "torch.Size([64, 324, 9])\n",
      "torch.Size([64, 324, 9])\n",
      "torch.Size([64, 324, 9])\n",
      "torch.Size([64, 324, 9])\n",
      "torch.Size([64, 324, 9])\n",
      "torch.Size([64, 324, 9])\n",
      "torch.Size([64, 324, 9])\n",
      "torch.Size([64, 324, 9])\n",
      "torch.Size([64, 324, 9])\n",
      "torch.Size([64, 324, 9])\n",
      "torch.Size([64, 324, 9])\n",
      "torch.Size([64, 324, 9])\n",
      "torch.Size([64, 324, 9])\n",
      "torch.Size([64, 324, 9])\n",
      "torch.Size([64, 324, 9])\n",
      "torch.Size([64, 324, 9])\n",
      "torch.Size([64, 324, 9])\n",
      "torch.Size([64, 324, 9])\n",
      "torch.Size([64, 324, 9])\n",
      "torch.Size([64, 324, 9])\n",
      "torch.Size([64, 324, 9])\n",
      "torch.Size([64, 324, 9])\n",
      "torch.Size([64, 324, 9])\n",
      "torch.Size([64, 324, 9])\n",
      "torch.Size([64, 324, 9])\n",
      "torch.Size([64, 324, 9])\n",
      "torch.Size([64, 324, 9])\n",
      "torch.Size([64, 324, 9])\n",
      "torch.Size([64, 324, 9])\n",
      "torch.Size([64, 324, 9])\n",
      "torch.Size([64, 324, 9])\n",
      "torch.Size([64, 324, 9])\n",
      "torch.Size([64, 324, 9])\n",
      "torch.Size([64, 324, 9])\n",
      "torch.Size([64, 324, 9])\n",
      "torch.Size([64, 324, 9])\n",
      "torch.Size([64, 324, 9])\n",
      "torch.Size([64, 324, 9])\n",
      "torch.Size([64, 324, 9])\n",
      "torch.Size([64, 324, 9])\n",
      "torch.Size([64, 324, 9])\n",
      "torch.Size([64, 324, 9])\n",
      "torch.Size([64, 324, 9])\n",
      "torch.Size([64, 324, 9])\n",
      "torch.Size([64, 324, 9])\n",
      "torch.Size([64, 324, 9])\n",
      "torch.Size([64, 324, 9])\n",
      "torch.Size([64, 324, 9])\n",
      "torch.Size([64, 324, 9])\n",
      "torch.Size([64, 324, 9])\n",
      "torch.Size([64, 324, 9])\n",
      "torch.Size([64, 324, 9])\n",
      "torch.Size([64, 324, 9])\n",
      "torch.Size([64, 324, 9])\n",
      "torch.Size([64, 324, 9])\n",
      "torch.Size([64, 324, 9])\n",
      "torch.Size([64, 324, 9])\n",
      "torch.Size([64, 324, 9])\n",
      "torch.Size([64, 324, 9])\n",
      "torch.Size([64, 324, 9])\n",
      "torch.Size([64, 324, 9])\n",
      "torch.Size([64, 324, 9])\n",
      "torch.Size([64, 324, 9])\n",
      "torch.Size([64, 324, 9])\n",
      "torch.Size([64, 324, 9])\n",
      "torch.Size([64, 324, 9])\n",
      "torch.Size([64, 324, 9])\n",
      "torch.Size([64, 324, 9])\n",
      "torch.Size([64, 324, 9])\n",
      "torch.Size([64, 324, 9])\n",
      "torch.Size([64, 324, 9])\n",
      "torch.Size([64, 324, 9])\n",
      "torch.Size([64, 324, 9])\n",
      "torch.Size([64, 324, 9])\n",
      "torch.Size([64, 324, 9])\n",
      "torch.Size([64, 324, 9])\n",
      "torch.Size([64, 324, 9])\n",
      "torch.Size([64, 324, 9])\n",
      "torch.Size([64, 324, 9])\n",
      "torch.Size([64, 324, 9])\n",
      "torch.Size([64, 324, 9])\n",
      "torch.Size([64, 324, 9])\n",
      "torch.Size([64, 324, 9])\n",
      "torch.Size([64, 324, 9])\n",
      "torch.Size([64, 324, 9])\n",
      "torch.Size([64, 324, 9])\n",
      "torch.Size([64, 324, 9])\n",
      "torch.Size([64, 324, 9])\n",
      "torch.Size([64, 324, 9])\n",
      "torch.Size([64, 324, 9])\n",
      "torch.Size([64, 324, 9])\n",
      "torch.Size([64, 324, 9])\n",
      "torch.Size([64, 324, 9])\n",
      "torch.Size([64, 324, 9])\n",
      "torch.Size([64, 324, 9])\n",
      "torch.Size([64, 324, 9])\n",
      "torch.Size([64, 324, 9])\n",
      "torch.Size([64, 324, 9])\n",
      "torch.Size([64, 324, 9])\n",
      "torch.Size([64, 324, 9])\n",
      "torch.Size([64, 324, 9])\n",
      "torch.Size([64, 324, 9])\n",
      "torch.Size([64, 324, 9])\n",
      "torch.Size([64, 324, 9])\n",
      "torch.Size([64, 324, 9])\n",
      "torch.Size([64, 324, 9])\n",
      "torch.Size([64, 324, 9])\n",
      "torch.Size([64, 324, 9])\n",
      "torch.Size([64, 324, 9])\n",
      "torch.Size([64, 324, 9])\n",
      "torch.Size([64, 324, 9])\n",
      "torch.Size([64, 324, 9])\n",
      "torch.Size([64, 324, 9])\n",
      "torch.Size([64, 324, 9])\n",
      "torch.Size([64, 324, 9])\n",
      "torch.Size([64, 324, 9])\n",
      "torch.Size([64, 324, 9])\n",
      "torch.Size([64, 324, 9])\n",
      "torch.Size([64, 324, 9])\n",
      "torch.Size([64, 324, 9])\n",
      "torch.Size([64, 324, 9])\n",
      "torch.Size([64, 324, 9])\n",
      "torch.Size([64, 324, 9])\n",
      "torch.Size([64, 324, 9])\n",
      "torch.Size([64, 324, 9])\n",
      "torch.Size([64, 324, 9])\n",
      "torch.Size([64, 324, 9])\n",
      "torch.Size([64, 324, 9])\n",
      "torch.Size([64, 324, 9])\n",
      "torch.Size([64, 324, 9])\n",
      "torch.Size([64, 324, 9])\n",
      "torch.Size([64, 324, 9])\n",
      "torch.Size([64, 324, 9])\n",
      "torch.Size([64, 324, 9])\n",
      "torch.Size([64, 324, 9])\n",
      "torch.Size([64, 324, 9])\n",
      "torch.Size([64, 324, 9])\n",
      "torch.Size([64, 324, 9])\n",
      "torch.Size([64, 324, 9])\n",
      "torch.Size([64, 324, 9])\n",
      "torch.Size([64, 324, 9])\n",
      "torch.Size([64, 324, 9])\n",
      "torch.Size([64, 324, 9])\n",
      "torch.Size([64, 324, 9])\n",
      "torch.Size([64, 324, 9])\n",
      "torch.Size([64, 324, 9])\n",
      "torch.Size([64, 324, 9])\n",
      "torch.Size([64, 324, 9])\n",
      "torch.Size([64, 324, 9])\n",
      "torch.Size([64, 324, 9])\n",
      "torch.Size([64, 324, 9])\n",
      "torch.Size([64, 324, 9])\n",
      "torch.Size([64, 324, 9])\n",
      "torch.Size([64, 324, 9])\n",
      "torch.Size([64, 324, 9])\n",
      "torch.Size([64, 324, 9])\n",
      "torch.Size([64, 324, 9])\n",
      "torch.Size([64, 324, 9])\n",
      "torch.Size([64, 324, 9])\n",
      "torch.Size([64, 324, 9])\n",
      "torch.Size([64, 324, 9])\n",
      "torch.Size([64, 324, 9])\n",
      "torch.Size([64, 324, 9])\n",
      "torch.Size([64, 324, 9])\n",
      "torch.Size([64, 324, 9])\n",
      "torch.Size([64, 324, 9])\n",
      "torch.Size([64, 324, 9])\n",
      "torch.Size([64, 324, 9])\n",
      "torch.Size([64, 324, 9])\n",
      "torch.Size([64, 324, 9])\n",
      "torch.Size([64, 324, 9])\n",
      "torch.Size([64, 324, 9])\n",
      "torch.Size([64, 324, 9])\n",
      "torch.Size([64, 324, 9])\n",
      "torch.Size([64, 324, 9])\n",
      "torch.Size([64, 324, 9])\n",
      "torch.Size([64, 324, 9])\n",
      "torch.Size([64, 324, 9])\n",
      "torch.Size([64, 324, 9])\n",
      "torch.Size([64, 324, 9])\n",
      "torch.Size([64, 324, 9])\n",
      "torch.Size([64, 324, 9])\n",
      "torch.Size([64, 324, 9])\n",
      "torch.Size([64, 324, 9])\n",
      "torch.Size([64, 324, 9])\n",
      "torch.Size([64, 324, 9])\n",
      "torch.Size([64, 324, 9])\n",
      "torch.Size([64, 324, 9])\n",
      "torch.Size([64, 324, 9])\n",
      "torch.Size([64, 324, 9])\n",
      "torch.Size([64, 324, 9])\n",
      "torch.Size([64, 324, 9])\n",
      "torch.Size([64, 324, 9])\n",
      "torch.Size([64, 324, 9])\n",
      "torch.Size([64, 324, 9])\n",
      "torch.Size([64, 324, 9])\n",
      "torch.Size([64, 324, 9])\n",
      "torch.Size([64, 324, 9])\n",
      "torch.Size([64, 324, 9])\n",
      "torch.Size([64, 324, 9])\n",
      "torch.Size([64, 324, 9])\n",
      "torch.Size([64, 324, 9])\n",
      "torch.Size([64, 324, 9])\n",
      "torch.Size([64, 324, 9])\n",
      "torch.Size([64, 324, 9])\n",
      "torch.Size([64, 324, 9])\n",
      "torch.Size([64, 324, 9])\n",
      "torch.Size([64, 324, 9])\n",
      "torch.Size([64, 324, 9])\n",
      "torch.Size([64, 324, 9])\n",
      "torch.Size([64, 324, 9])\n",
      "torch.Size([64, 324, 9])\n",
      "torch.Size([64, 324, 9])\n",
      "torch.Size([64, 324, 9])\n",
      "torch.Size([64, 324, 9])\n",
      "torch.Size([64, 324, 9])\n",
      "torch.Size([64, 324, 9])\n",
      "torch.Size([64, 324, 9])\n",
      "torch.Size([64, 324, 9])\n",
      "torch.Size([64, 324, 9])\n",
      "torch.Size([64, 324, 9])\n",
      "torch.Size([64, 324, 9])\n",
      "torch.Size([64, 324, 9])\n",
      "torch.Size([64, 324, 9])\n",
      "torch.Size([64, 324, 9])\n",
      "torch.Size([64, 324, 9])\n",
      "torch.Size([64, 324, 9])\n",
      "torch.Size([64, 324, 9])\n",
      "torch.Size([64, 324, 9])\n",
      "torch.Size([64, 324, 9])\n",
      "torch.Size([64, 324, 9])\n",
      "torch.Size([64, 324, 9])\n",
      "torch.Size([64, 324, 9])\n",
      "torch.Size([64, 324, 9])\n",
      "torch.Size([64, 324, 9])\n",
      "torch.Size([64, 324, 9])\n",
      "torch.Size([64, 324, 9])\n",
      "torch.Size([64, 324, 9])\n",
      "torch.Size([64, 324, 9])\n",
      "torch.Size([64, 324, 9])\n",
      "torch.Size([64, 324, 9])\n",
      "torch.Size([64, 324, 9])\n",
      "torch.Size([64, 324, 9])\n",
      "torch.Size([64, 324, 9])\n",
      "torch.Size([64, 324, 9])\n",
      "torch.Size([64, 324, 9])\n",
      "torch.Size([64, 324, 9])\n",
      "torch.Size([64, 324, 9])\n",
      "torch.Size([64, 324, 9])\n",
      "torch.Size([64, 324, 9])\n",
      "torch.Size([64, 324, 9])\n",
      "torch.Size([64, 324, 9])\n",
      "torch.Size([64, 324, 9])\n",
      "torch.Size([64, 324, 9])\n",
      "torch.Size([64, 324, 9])\n",
      "torch.Size([64, 324, 9])\n",
      "torch.Size([64, 324, 9])\n",
      "torch.Size([64, 324, 9])\n",
      "torch.Size([64, 324, 9])\n",
      "torch.Size([64, 324, 9])\n",
      "torch.Size([64, 324, 9])\n",
      "torch.Size([64, 324, 9])\n",
      "torch.Size([64, 324, 9])\n",
      "torch.Size([64, 324, 9])\n",
      "torch.Size([64, 324, 9])\n",
      "torch.Size([64, 324, 9])\n",
      "torch.Size([64, 324, 9])\n",
      "torch.Size([64, 324, 9])\n",
      "torch.Size([64, 324, 9])\n",
      "torch.Size([64, 324, 9])\n",
      "torch.Size([64, 324, 9])\n",
      "torch.Size([64, 324, 9])\n",
      "torch.Size([64, 324, 9])\n",
      "torch.Size([64, 324, 9])\n",
      "torch.Size([64, 324, 9])\n",
      "torch.Size([64, 324, 9])\n",
      "torch.Size([64, 324, 9])\n",
      "torch.Size([64, 324, 9])\n",
      "torch.Size([64, 324, 9])\n",
      "torch.Size([64, 324, 9])\n",
      "torch.Size([64, 324, 9])\n",
      "torch.Size([64, 324, 9])\n",
      "torch.Size([64, 324, 9])\n",
      "torch.Size([64, 324, 9])\n",
      "torch.Size([64, 324, 9])\n",
      "torch.Size([64, 324, 9])\n",
      "torch.Size([64, 324, 9])\n",
      "torch.Size([64, 324, 9])\n",
      "torch.Size([64, 324, 9])\n",
      "torch.Size([64, 324, 9])\n",
      "torch.Size([64, 324, 9])\n",
      "torch.Size([64, 324, 9])\n",
      "torch.Size([64, 324, 9])\n",
      "torch.Size([64, 324, 9])\n",
      "torch.Size([64, 324, 9])\n",
      "torch.Size([64, 324, 9])\n",
      "torch.Size([64, 324, 9])\n",
      "torch.Size([64, 324, 9])\n",
      "torch.Size([64, 324, 9])\n",
      "torch.Size([64, 324, 9])\n",
      "torch.Size([64, 324, 9])\n",
      "torch.Size([64, 324, 9])\n",
      "torch.Size([64, 324, 9])\n",
      "torch.Size([64, 324, 9])\n",
      "torch.Size([64, 324, 9])\n",
      "torch.Size([64, 324, 9])\n",
      "torch.Size([64, 324, 9])\n",
      "torch.Size([64, 324, 9])\n",
      "torch.Size([64, 324, 9])\n",
      "torch.Size([64, 324, 9])\n",
      "torch.Size([64, 324, 9])\n",
      "torch.Size([64, 324, 9])\n",
      "torch.Size([64, 324, 9])\n",
      "torch.Size([64, 324, 9])\n",
      "torch.Size([64, 324, 9])\n",
      "torch.Size([64, 324, 9])\n",
      "torch.Size([64, 324, 9])\n",
      "torch.Size([64, 324, 9])\n",
      "torch.Size([64, 324, 9])\n",
      "torch.Size([64, 324, 9])\n",
      "torch.Size([64, 324, 9])\n",
      "torch.Size([64, 324, 9])\n",
      "torch.Size([64, 324, 9])\n",
      "torch.Size([64, 324, 9])\n",
      "torch.Size([64, 324, 9])\n",
      "torch.Size([64, 324, 9])\n",
      "torch.Size([64, 324, 9])\n",
      "torch.Size([64, 324, 9])\n",
      "torch.Size([64, 324, 9])\n",
      "torch.Size([64, 324, 9])\n",
      "torch.Size([64, 324, 9])\n",
      "torch.Size([64, 324, 9])\n",
      "torch.Size([64, 324, 9])\n",
      "torch.Size([64, 324, 9])\n",
      "torch.Size([64, 324, 9])\n",
      "torch.Size([64, 324, 9])\n",
      "torch.Size([64, 324, 9])\n",
      "torch.Size([64, 324, 9])\n",
      "torch.Size([64, 324, 9])\n",
      "torch.Size([64, 324, 9])\n",
      "torch.Size([64, 324, 9])\n",
      "torch.Size([64, 324, 9])\n",
      "torch.Size([64, 324, 9])\n",
      "torch.Size([64, 324, 9])\n",
      "torch.Size([64, 324, 9])\n",
      "torch.Size([64, 324, 9])\n",
      "torch.Size([64, 324, 9])\n",
      "torch.Size([64, 324, 9])\n",
      "torch.Size([64, 324, 9])\n",
      "torch.Size([64, 324, 9])\n",
      "torch.Size([64, 324, 9])\n",
      "torch.Size([64, 324, 9])\n",
      "torch.Size([64, 324, 9])\n",
      "torch.Size([64, 324, 9])\n",
      "torch.Size([64, 324, 9])\n",
      "torch.Size([64, 324, 9])\n",
      "torch.Size([64, 324, 9])\n",
      "torch.Size([64, 324, 9])\n",
      "torch.Size([64, 324, 9])\n",
      "torch.Size([64, 324, 9])\n",
      "torch.Size([64, 324, 9])\n",
      "torch.Size([64, 324, 9])\n",
      "torch.Size([64, 324, 9])\n",
      "torch.Size([64, 324, 9])\n",
      "torch.Size([64, 324, 9])\n",
      "torch.Size([64, 324, 9])\n",
      "torch.Size([64, 324, 9])\n",
      "torch.Size([64, 324, 9])\n",
      "torch.Size([64, 324, 9])\n",
      "torch.Size([64, 324, 9])\n",
      "torch.Size([64, 324, 9])\n",
      "torch.Size([64, 324, 9])\n",
      "torch.Size([64, 324, 9])\n",
      "torch.Size([64, 324, 9])\n",
      "torch.Size([64, 324, 9])\n",
      "torch.Size([64, 324, 9])\n",
      "torch.Size([64, 324, 9])\n",
      "torch.Size([64, 324, 9])\n",
      "torch.Size([64, 324, 9])\n",
      "torch.Size([64, 324, 9])\n",
      "torch.Size([64, 324, 9])\n",
      "torch.Size([64, 324, 9])\n",
      "torch.Size([64, 324, 9])\n",
      "torch.Size([64, 324, 9])\n",
      "torch.Size([64, 324, 9])\n",
      "torch.Size([64, 324, 9])\n",
      "torch.Size([64, 324, 9])\n",
      "torch.Size([64, 324, 9])\n",
      "torch.Size([64, 324, 9])\n",
      "torch.Size([64, 324, 9])\n",
      "torch.Size([64, 324, 9])\n",
      "torch.Size([64, 324, 9])\n",
      "torch.Size([64, 324, 9])\n",
      "torch.Size([64, 324, 9])\n",
      "torch.Size([64, 324, 9])\n",
      "torch.Size([64, 324, 9])\n",
      "torch.Size([64, 324, 9])\n",
      "torch.Size([64, 324, 9])\n",
      "torch.Size([64, 324, 9])\n",
      "torch.Size([64, 324, 9])\n",
      "torch.Size([64, 324, 9])\n",
      "torch.Size([64, 324, 9])\n",
      "torch.Size([64, 324, 9])\n",
      "torch.Size([64, 324, 9])\n",
      "torch.Size([64, 324, 9])\n",
      "torch.Size([64, 324, 9])\n",
      "torch.Size([64, 324, 9])\n",
      "torch.Size([64, 324, 9])\n",
      "torch.Size([64, 324, 9])\n",
      "torch.Size([64, 324, 9])\n",
      "torch.Size([64, 324, 9])\n",
      "torch.Size([64, 324, 9])\n",
      "torch.Size([64, 324, 9])\n",
      "torch.Size([64, 324, 9])\n",
      "torch.Size([64, 324, 9])\n",
      "torch.Size([64, 324, 9])\n",
      "torch.Size([64, 324, 9])\n",
      "torch.Size([64, 324, 9])\n",
      "torch.Size([64, 324, 9])\n",
      "torch.Size([64, 324, 9])\n",
      "torch.Size([64, 324, 9])\n",
      "torch.Size([64, 324, 9])\n",
      "torch.Size([64, 324, 9])\n",
      "torch.Size([64, 324, 9])\n",
      "torch.Size([64, 324, 9])\n",
      "torch.Size([64, 324, 9])\n",
      "torch.Size([64, 324, 9])\n",
      "torch.Size([64, 324, 9])\n",
      "torch.Size([64, 324, 9])\n",
      "torch.Size([64, 324, 9])\n",
      "torch.Size([64, 324, 9])\n",
      "torch.Size([64, 324, 9])\n",
      "torch.Size([64, 324, 9])\n",
      "torch.Size([64, 324, 9])\n",
      "torch.Size([64, 324, 9])\n",
      "torch.Size([64, 324, 9])\n",
      "torch.Size([64, 324, 9])\n",
      "torch.Size([64, 324, 9])\n",
      "torch.Size([64, 324, 9])\n",
      "torch.Size([64, 324, 9])\n",
      "torch.Size([64, 324, 9])\n",
      "torch.Size([64, 324, 9])\n",
      "torch.Size([64, 324, 9])\n",
      "torch.Size([64, 324, 9])\n",
      "torch.Size([64, 324, 9])\n",
      "torch.Size([64, 324, 9])\n",
      "torch.Size([64, 324, 9])\n",
      "torch.Size([64, 324, 9])\n",
      "torch.Size([64, 324, 9])\n",
      "torch.Size([64, 324, 9])\n",
      "torch.Size([64, 324, 9])\n",
      "torch.Size([64, 324, 9])\n",
      "torch.Size([64, 324, 9])\n",
      "torch.Size([64, 324, 9])\n",
      "torch.Size([64, 324, 9])\n",
      "torch.Size([64, 324, 9])\n",
      "torch.Size([64, 324, 9])\n",
      "torch.Size([64, 324, 9])\n",
      "torch.Size([64, 16, 16, 128])\n",
      "torch.Size([64, 16, 16, 1])\n"
     ]
    }
   ],
   "source": [
    "import math \n",
    "import torch.nn as nn\n",
    "import sklearn\n",
    "\n",
    "csam = model.network_structure[inject_layer]\n",
    "# output = csam.approach3(out)\n",
    "\n",
    "batch = csam.input_padder(out)\n",
    "batch = batch.permute(0, 2, 3, 1)\n",
    "global_mask = (1 - csam.padding_mask - csam.local_mask).flatten(\n",
    "    start_dim=1, end_dim=-1).reshape(\n",
    "        csam.convs_height, csam.convs_width, -1)                                                                # [Nc,1,H,W,1]\n",
    "X = csam.maybe_add_positional_encodings(batch)                                                                  # [B,H,W,E]\n",
    "batch_size, H, W, _ = X.shape\n",
    "X_flat_spatial = X.view(-1, H * W, X.shape[-1])                                                                 # [B,HW,E]\n",
    "X_g_vectors = csam.global_transform(X_flat_spatial)                                                             # [B,HW,C]\n",
    "\n",
    "# convs_height = self.convs_height\n",
    "# convs_width = self.convs_width\n",
    "# For cosine similarity\n",
    "X_normed = torch.nn.functional.normalize(X, dim=-1)\n",
    "\n",
    "keys = X_normed\n",
    "queries = X_normed\n",
    "denom = 1.\n",
    "\n",
    "# output = torch.zeros(batch_size, convs_height, convs_width, self.spatial_C, dtype=torch.float).cuda()           # [B,F,F,C]\n",
    "# TODO: Hack. Assumes Padding is 'same'\n",
    "# pdb.set_trace()\n",
    "output = torch.clone(csam.undo_padding(batch.permute(0, 3, 1, 2))).permute(0, 2, 3, 1)\n",
    "filters = torch.empty((64, 16, 16, 1))\n",
    "compats = torch.empty((64, 16, 16, 1))\n",
    "\n",
    "indices = csam.indices\n",
    "if 'random_k' in csam.approach_args and csam.random_k > 0:\n",
    "    indices = np.random.permutation(indices)[:csam.random_k]\n",
    "for i, j in indices:\n",
    "# for i in range(0, convs_height, self.stride):\n",
    "#     for j in range(0, convs_width, self.stride):\n",
    "\n",
    "        X_l = queries[:, i:i+csam.filter_K, j:j+csam.filter_K] / denom                                         # [B,K,K,C]\n",
    "        raw_compatibilities = torch.einsum('bhwc,bkjc->bhwkj', keys, X_l)                                      # [B,H,W,K,K]\n",
    "        raw_compatibilities = raw_compatibilities.view(-1, H * W, csam.filter_size)                            # [B,HW,K^2]\n",
    "        compatabilities = csam.masked_softmax(\n",
    "            csam.softmax_temp * raw_compatibilities,\n",
    "            global_mask[i, j].unsqueeze(0).unsqueeze(-1),\n",
    "            dim=1,\n",
    "            epsilon=1e-5\n",
    "            )\n",
    "        print(compatabilities.shape)\n",
    "#         for k in range(64):\n",
    "#             print(compats[k,i,j].shape)\n",
    "#             print((sklearn.metrics.pairwise.cosine_similarity(compatabilities[k,:,:].detach().cpu().numpy())).shape)\n",
    "        W_g = torch.bmm(compatabilities.transpose(2, 1), X_g_vectors)                                           # ([B,HW,K^2] -> [B,K^2,HW]) x [B,HW,C] -> [B,K^2,C]\n",
    "        X_l_flat_spatial = X_l[:,:,:,:csam.spatial_C].reshape(-1, csam.filter_size, csam.spatial_C)             # [B,K^2,C]\n",
    "        forget_gate = torch.sigmoid(torch.sum(W_g * X_l_flat_spatial, dim=-1, keepdim=True))                    # [B,K^2,1]\n",
    "        \n",
    "#         print(compats[:, i, j].shape)\n",
    "        print(compatabilities.shape)\n",
    "        \n",
    "        output[:, i, j] = (forget_gate * X_l_flat_spatial).sum(dim=1)     \n",
    "        filters[:, i, j] = forget_gate.sum(dim=1)\n",
    "    \n",
    "print(output.shape)\n",
    "print(filters.shape)"
   ]
  },
  {
   "cell_type": "code",
   "execution_count": 39,
   "id": "0dbcac2a",
   "metadata": {},
   "outputs": [
    {
     "data": {
      "text/plain": [
       "torch.Size([64, 16, 16, 1])"
      ]
     },
     "execution_count": 39,
     "metadata": {},
     "output_type": "execute_result"
    }
   ],
   "source": [
    "filters.shape"
   ]
  },
  {
   "cell_type": "code",
   "execution_count": 41,
   "id": "c3aa0aa8",
   "metadata": {},
   "outputs": [
    {
     "data": {
      "text/plain": [
       "torch.Size([64, 16, 16, 128])"
      ]
     },
     "execution_count": 41,
     "metadata": {},
     "output_type": "execute_result"
    }
   ],
   "source": [
    "output.shape"
   ]
  },
  {
   "cell_type": "code",
   "execution_count": 45,
   "id": "8abafe3d",
   "metadata": {},
   "outputs": [
    {
     "data": {
      "text/plain": [
       "torch.Size([16, 16, 128])"
      ]
     },
     "execution_count": 45,
     "metadata": {},
     "output_type": "execute_result"
    }
   ],
   "source": [
    "out.permute(0,2,3,1)[idx].shape"
   ]
  },
  {
   "cell_type": "code",
   "execution_count": 46,
   "id": "273d010e",
   "metadata": {},
   "outputs": [
    {
     "data": {
      "text/plain": [
       "torch.Size([256, 128])"
      ]
     },
     "execution_count": 46,
     "metadata": {},
     "output_type": "execute_result"
    }
   ],
   "source": [
    "out.permute(0,2,3,1)[idx].reshape(256, 128).shape"
   ]
  },
  {
   "cell_type": "code",
   "execution_count": 57,
   "id": "daada24b",
   "metadata": {},
   "outputs": [
    {
     "data": {
      "text/plain": [
       "torch.Size([16, 16, 1])"
      ]
     },
     "execution_count": 57,
     "metadata": {},
     "output_type": "execute_result"
    }
   ],
   "source": [
    "filters[idx].shape"
   ]
  },
  {
   "cell_type": "markdown",
   "id": "c453de42",
   "metadata": {},
   "source": [
    "# Visualization Script"
   ]
  },
  {
   "cell_type": "code",
   "execution_count": 102,
   "id": "585bd0f9",
   "metadata": {},
   "outputs": [
    {
     "name": "stdout",
     "output_type": "stream",
     "text": [
      "Batch Explained Variance: [0.19712554 0.16873777 0.11338403]\n",
      "Filter Explained Variance: [1.]\n"
     ]
    }
   ],
   "source": [
    "idx = 10\n",
    "batch_pca = PCA(n_components=3)\n",
    "filter_pca = PCA(n_components=1)\n",
    "# csam_pca = PCA(n_components=3)\n",
    "\n",
    "batch_pca.fit(out.permute(0,2,3,1)[idx].reshape(256, 128).detach().cpu().numpy())\n",
    "filter_pca.fit(filters[idx].reshape(256, 1).detach().cpu().numpy())\n",
    "batch_pca.fit(output[idx].reshape(256, 128).detach().cpu().numpy())\n",
    "print('Batch Explained Variance: {}'.format(batch_pca.explained_variance_ratio_))\n",
    "print('Filter Explained Variance: {}'.format(filter_pca.explained_variance_ratio_))\n",
    "# print('CSAM Explained Variance: {}'.format(csam_pca.explained_variance_ratio_))"
   ]
  },
  {
   "cell_type": "code",
   "execution_count": 103,
   "id": "e84840ea",
   "metadata": {},
   "outputs": [],
   "source": [
    "batch_reduced = batch_pca.transform(out.permute(0,2,3,1)[idx].reshape(256, 128).detach().cpu().numpy()).reshape(16, 16, 3)\n",
    "filter_reduced = filter_pca.transform(filters[idx].reshape(256, 1).detach().cpu().numpy()).reshape(16, 16, 1)\n",
    "csam_reduced = batch_pca.transform(output[idx].reshape(256, 128).detach().cpu().numpy()).reshape(16, 16, 3)\n"
   ]
  },
  {
   "cell_type": "markdown",
   "id": "e561a259",
   "metadata": {},
   "source": [
    "# Image"
   ]
  },
  {
   "cell_type": "code",
   "execution_count": 104,
   "id": "23fed50b",
   "metadata": {},
   "outputs": [
    {
     "name": "stderr",
     "output_type": "stream",
     "text": [
      "Clipping input data to the valid range for imshow with RGB data ([0..1] for floats or [0..255] for integers).\n"
     ]
    },
    {
     "name": "stdout",
     "output_type": "stream",
     "text": [
      "shark\n",
      "dolphin\n"
     ]
    },
    {
     "data": {
      "text/plain": [
       "<matplotlib.image.AxesImage at 0x7f15b191aa60>"
      ]
     },
     "execution_count": 104,
     "metadata": {},
     "output_type": "execute_result"
    },
    {
     "data": {
      "image/png": "[encoded data removed]",
      "text/plain": [
       "<Figure size 432x288 with 1 Axes>"
      ]
     },
     "metadata": {
      "needs_background": "light"
     },
     "output_type": "display_data"
    }
   ],
   "source": [
    "print(id2label[wrong_labels[idx].numpy().tolist()])\n",
    "print(id2label[predictions[idx]])\n",
    "image = wrong_images[idx].permute(1, 2, 0).detach().cpu().numpy()\n",
    "plt.imshow(image)"
   ]
  },
  {
   "cell_type": "markdown",
   "id": "bd6d32df",
   "metadata": {},
   "source": [
    "# Visualization of CSAM Input from Vision Backbone"
   ]
  },
  {
   "cell_type": "code",
   "execution_count": 105,
   "id": "b851d540",
   "metadata": {
    "scrolled": true
   },
   "outputs": [
    {
     "data": {
      "text/plain": [
       "<matplotlib.image.AxesImage at 0x7f15b18edbe0>"
      ]
     },
     "execution_count": 105,
     "metadata": {},
     "output_type": "execute_result"
    },
    {
     "data": {
      "image/png": "[encoded data removed]",
      "text/plain": [
       "<Figure size 432x288 with 1 Axes>"
      ]
     },
     "metadata": {
      "needs_background": "light"
     },
     "output_type": "display_data"
    }
   ],
   "source": [
    "batch_norm = (batch_reduced - np.min(batch_reduced)) / (np.max(batch_reduced) - np.min(batch_reduced))\n",
    "plt.imshow(batch_norm) "
   ]
  },
  {
   "cell_type": "markdown",
   "id": "56e7ca89",
   "metadata": {},
   "source": [
    "# Visualization of CSAM Filter "
   ]
  },
  {
   "cell_type": "code",
   "execution_count": 106,
   "id": "2423987b",
   "metadata": {},
   "outputs": [
    {
     "data": {
      "text/plain": [
       "<AxesSubplot:>"
      ]
     },
     "execution_count": 106,
     "metadata": {},
     "output_type": "execute_result"
    },
    {
     "data": {
      "image/png": "[encoded data removed]",
      "text/plain": [
       "<Figure size 432x288 with 2 Axes>"
      ]
     },
     "metadata": {
      "needs_background": "light"
     },
     "output_type": "display_data"
    }
   ],
   "source": [
    "filter_norm = (filter_reduced - np.min(filter_reduced)) / (np.max(filter_reduced) - np.min(filter_reduced))\n",
    "# plt.imshow(filter_norm)\n",
    "sns.heatmap(filter_norm.squeeze(-1))"
   ]
  },
  {
   "cell_type": "markdown",
   "id": "319f7d46",
   "metadata": {},
   "source": [
    "# Visualization of CSAM Output"
   ]
  },
  {
   "cell_type": "code",
   "execution_count": 107,
   "id": "00a883b9",
   "metadata": {},
   "outputs": [
    {
     "data": {
      "text/plain": [
       "<matplotlib.image.AxesImage at 0x7f15fc01b610>"
      ]
     },
     "execution_count": 107,
     "metadata": {},
     "output_type": "execute_result"
    },
    {
     "data": {
      "image/png": "[encoded data removed]",
      "text/plain": [
       "<Figure size 432x288 with 1 Axes>"
      ]
     },
     "metadata": {
      "needs_background": "light"
     },
     "output_type": "display_data"
    }
   ],
   "source": [
    "csam_norm = (csam_reduced - np.min(csam_reduced)) / (np.max(csam_reduced) - np.min(csam_reduced))\n",
    "plt.imshow(csam_norm)"
   ]
  },
  {
   "cell_type": "markdown",
   "id": "7a80bbf8",
   "metadata": {},
   "source": [
    "# Visualization of CSAM attention layer "
   ]
  },
  {
   "cell_type": "code",
   "execution_count": 108,
   "id": "f8ed2afe",
   "metadata": {
    "scrolled": true
   },
   "outputs": [],
   "source": [
    "# TODO"
   ]
  },
  {
   "cell_type": "markdown",
   "id": "9e68417b",
   "metadata": {},
   "source": [
    "# Combined"
   ]
  },
  {
   "cell_type": "code",
   "execution_count": 109,
   "id": "738f35cf",
   "metadata": {},
   "outputs": [
    {
     "name": "stderr",
     "output_type": "stream",
     "text": [
      "Clipping input data to the valid range for imshow with RGB data ([0..1] for floats or [0..255] for integers).\n"
     ]
    },
    {
     "data": {
      "image/png": "[encoded data removed]",
      "text/plain": [
       "<Figure size 1152x648 with 5 Axes>"
      ]
     },
     "metadata": {
      "needs_background": "light"
     },
     "output_type": "display_data"
    }
   ],
   "source": [
    "f, axarr = plt.subplots(1,4, figsize=(16,9))\n",
    "axarr[0].imshow(image)\n",
    "axarr[0].title.set_text('Image')\n",
    "axarr[1].imshow(batch_norm)\n",
    "axarr[1].title.set_text('Layer Input')\n",
    "axarr[2].imshow(filter_norm)\n",
    "axarr[2].title.set_text('Filter')\n",
    "sns.heatmap(filter_norm.squeeze(-1), ax=axarr[2],\n",
    "           cbar_kws=dict(use_gridspec=False,pad=0.01,shrink=0.25)\n",
    "           )\n",
    "axarr[3].title.set_text('Layer Output')\n",
    "axarr[3].imshow(csam_norm)\n",
    "f.show()"
   ]
  },
  {
   "cell_type": "code",
   "execution_count": null,
   "id": "fda339c9",
   "metadata": {},
   "outputs": [],
   "source": [
    "import sklearn\n",
    "uniform_dist = np.random.uniform(size = filter_norm.shape)\n",
    "sklearn.metrics.mutual_info_score(filter_norm.flatten(), uniform_dist.flatten())"
   ]
  },
  {
   "cell_type": "code",
   "execution_count": null,
   "id": "58c44d1e",
   "metadata": {},
   "outputs": [],
   "source": []
  }
 ],
 "metadata": {
  "kernelspec": {
   "display_name": "Python 3",
   "language": "python",
   "name": "python3"
  },
  "language_info": {
   "codemirror_mode": {
    "name": "ipython",
    "version": 3
   },
   "file_extension": ".py",
   "mimetype": "text/x-python",
   "name": "python",
   "nbconvert_exporter": "python",
   "pygments_lexer": "ipython3",
   "version": "3.8.5"
  }
 },
 "nbformat": 4,
 "nbformat_minor": 5
}
